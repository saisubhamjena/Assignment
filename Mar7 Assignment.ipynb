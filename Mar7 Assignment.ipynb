{
 "cells": [
  {
   "cell_type": "code",
   "execution_count": null,
   "id": "37e51fb1-fdae-4aa3-8c76-32a115ea0222",
   "metadata": {},
   "outputs": [],
   "source": [
    "#Q1. What are the three measures of central tendency?\n",
    "\"\"\"\n",
    "Three measures of central tendency are Mean , Median and Mode.\n",
    "\"\"\""
   ]
  },
  {
   "cell_type": "code",
   "execution_count": null,
   "id": "e0d8d990-739d-4b32-9d2f-63223d6c757a",
   "metadata": {},
   "outputs": [],
   "source": [
    "#Q2. What is the difference between the mean, median, and mode? How are they used to measure the central tendency of a dataset?\n",
    "\"\"\"\n",
    " Mean is the average of a given data set, used to get the idea about the average of the dataset.\n",
    " median is the middlemost data value , it is more effective when there is a outlier\n",
    " mode represents the most frequently occurring data value in the set . These are used in categorical data.\n",
    "\"\"\""
   ]
  },
  {
   "cell_type": "code",
   "execution_count": 2,
   "id": "55afa65d-9626-4409-8b1a-dd91f22175e2",
   "metadata": {},
   "outputs": [
    {
     "data": {
      "text/plain": [
       "177.01875"
      ]
     },
     "execution_count": 2,
     "metadata": {},
     "output_type": "execute_result"
    }
   ],
   "source": [
    "#Q3.Measure the three measures of central tendency for the given height data:\n",
    "\n",
    "import numpy as np\n",
    "data=[178,177,176,177,178.2,178,175,179,180,175,178.9,176.2,177,172.5,178,176.5]\n",
    "\n",
    "np.mean(data)"
   ]
  },
  {
   "cell_type": "code",
   "execution_count": 3,
   "id": "1618b149-ee94-4937-92a9-925d7a24f470",
   "metadata": {},
   "outputs": [
    {
     "data": {
      "text/plain": [
       "177.0"
      ]
     },
     "execution_count": 3,
     "metadata": {},
     "output_type": "execute_result"
    }
   ],
   "source": [
    "np.median(data)\n"
   ]
  },
  {
   "cell_type": "code",
   "execution_count": 4,
   "id": "0955a245-569c-4e3a-93ac-065eb65c9314",
   "metadata": {},
   "outputs": [
    {
     "name": "stderr",
     "output_type": "stream",
     "text": [
      "/tmp/ipykernel_1458/2800027621.py:2: FutureWarning: Unlike other reduction functions (e.g. `skew`, `kurtosis`), the default behavior of `mode` typically preserves the axis it acts along. In SciPy 1.11.0, this behavior will change: the default value of `keepdims` will become False, the `axis` over which the statistic is taken will be eliminated, and the value None will no longer be accepted. Set `keepdims` to True or False to avoid this warning.\n",
      "  stats.mode(data)\n"
     ]
    },
    {
     "data": {
      "text/plain": [
       "ModeResult(mode=array([177.]), count=array([3]))"
      ]
     },
     "execution_count": 4,
     "metadata": {},
     "output_type": "execute_result"
    }
   ],
   "source": [
    "from scipy import stats\n",
    "stats.mode(data)"
   ]
  },
  {
   "cell_type": "code",
   "execution_count": 3,
   "id": "0e0cb507-2f6d-4c4b-a13e-d0f19b90e7e1",
   "metadata": {},
   "outputs": [
    {
     "data": {
      "text/plain": [
       "1.7885814036548633"
      ]
     },
     "execution_count": 3,
     "metadata": {},
     "output_type": "execute_result"
    }
   ],
   "source": [
    "#Q4. Find the standard deviation for the given data: \n",
    "\n",
    "import numpy as np\n",
    "data=[178,177,176,177,178.2,178,175,179,180,175,178.9,176.2,177,172.5,178,176.5]\n",
    "\n",
    "np.std(data)"
   ]
  },
  {
   "cell_type": "code",
   "execution_count": null,
   "id": "27952d0f-addd-4077-b867-b2dff3f4922f",
   "metadata": {},
   "outputs": [],
   "source": [
    "#Q5. How are measures of dispersion such as range, variance, and standard deviation used to describe the spread of a dataset? Provide an example.\n",
    "\"\"\"\n",
    "Range: It is the difference between max and min value. It is easy to calculate and indipendent of origin.\n",
    "Variance: It gives an actual value to how much the numbers in a data set vary from the mean.\n",
    "Standard Deviation: It measures how far apart numbers are in a data set.\n",
    "\n",
    "Ex.\n",
    "dataset=[1,2,3,4,5,6,7]\n",
    "range=6\n",
    "variance=4\n",
    "Standard Deviation =2\n",
    "\"\"\""
   ]
  },
  {
   "cell_type": "code",
   "execution_count": null,
   "id": "861444f4-1019-4098-89dc-e6e129cb011f",
   "metadata": {},
   "outputs": [],
   "source": [
    "#Q6. What is a Venn diagram?\n",
    "\"\"\"\n",
    "a diagram representing mathematical or logical sets pictorially as circles or closed curves within an enclosing rectangle (the universal set),\n",
    "common elements of the sets being represented by intersections of the circles.\n",
    "\"\"\""
   ]
  },
  {
   "cell_type": "code",
   "execution_count": null,
   "id": "c425b80c-8293-4737-a79d-4d35b7157d1c",
   "metadata": {},
   "outputs": [],
   "source": [
    "#Q7. For the two given sets A = (2,3,4,5,6,7) & B = (0,2,6,8,10). Find:\n",
    "\"\"\"\n",
    "(i) A Intersection B =(2,6)\n",
    "(ii) A ⋃ B = (0,2,3,4,5,6,7,8,10)\n",
    "\"\"\""
   ]
  },
  {
   "cell_type": "code",
   "execution_count": null,
   "id": "f9b106ff-9492-4b20-9d02-79ef348283da",
   "metadata": {},
   "outputs": [],
   "source": [
    "#Q8. What do you understand about skewness in data?\n",
    "\"\"\"\n",
    "Skewness is a measure of the asymmetry of a distribution. A distribution is asymmetrical when its left and right side are not mirror images.\n",
    "\n",
    "A distribution can have right (or positive), left (or negative), or zero skewness.\n",
    "\"\"\""
   ]
  },
  {
   "cell_type": "code",
   "execution_count": null,
   "id": "5f05e433-d7d3-44f7-ac71-b58d1c7ae424",
   "metadata": {},
   "outputs": [],
   "source": [
    "#Q9. If a data is right skewed then what will be the position of median with respect to mean?\n",
    "\"\"\"\n",
    "Median is smaller than mean. Left to mean in the x axis\"\"\""
   ]
  },
  {
   "cell_type": "code",
   "execution_count": null,
   "id": "5d78fb17-d50a-4f7a-9120-93c719c1f9a4",
   "metadata": {},
   "outputs": [],
   "source": [
    "#Q10. Explain the difference between covariance and correlation. How are these measures used in statistical analysis?\n",
    "\"\"\"\n",
    "Covariance shows you how the two variables differ.It refers to a systematic relationship between two random variables in which a change in the \n",
    "other reflects a change in one variable.\n",
    "\n",
    "Correlation shows you how the two variables are related.It is a measure that determines the degree to which two or more random variables move in\n",
    "sequence.It ranges from -1 to 1.\n",
    "\"\"\""
   ]
  },
  {
   "cell_type": "code",
   "execution_count": null,
   "id": "5a3a547c-c3b9-47ca-90a3-bf6b37c09124",
   "metadata": {},
   "outputs": [],
   "source": [
    "#Q11. What is the formula for calculating the sample mean? Provide an example calculation for a dataset.\n",
    "\"\"\"\n",
    "mean= sum of terms /number of terms\n",
    "\n",
    "data=[12,32,24,54,23,37,28]\n",
    "\n",
    "mean =(12+32+24+54+23+37+28)/7\n",
    "     =30\n",
    "\"\"\""
   ]
  },
  {
   "cell_type": "code",
   "execution_count": null,
   "id": "66164be6-5da6-4e20-a74d-ba620cf65f4b",
   "metadata": {},
   "outputs": [],
   "source": [
    "#Q12. For a normal distribution data what is the relationship between its measure of central tendency?\n",
    "\"\"\"\n",
    "Mean = Median = Mode\n",
    "\"\"\""
   ]
  },
  {
   "cell_type": "code",
   "execution_count": null,
   "id": "2f5f27a9-729e-433e-9632-83bdd45baef5",
   "metadata": {},
   "outputs": [],
   "source": [
    "#Q13. How is covariance different from correlation?\n",
    "\"\"\"\n",
    "           Covariance                                   |                 Correlation\n",
    "Measures the extend of change in one wrt other.         |     Measures the strength of the variables under comparision.\n",
    "It is a product of unit of variable.                    |     It is a unit free measurement.\n",
    "Any change in scale effects covariance.                 |     There is no change due to scale.\n",
    "There is no specific range.                             |     It ranges from -1 to 1."
   ]
  },
  {
   "cell_type": "code",
   "execution_count": null,
   "id": "85d733ff-d708-41a8-b697-1db4641ed302",
   "metadata": {},
   "outputs": [],
   "source": [
    "#Q14. How do outliers affect measures of central tendency and dispersion? Provide an example.\n",
    "\"\"\"\n",
    "Mean is the only measure of central tendency that gets affected.\n",
    "Ex: [1,2,3,4,5] , here mean is 3.\n",
    "If we introduce a outlier [1,2,3,4,5,100] then mean shifts to 19.16\n",
    "\n",
    "In case of dispertion range, variance and standard deviation gets affected.\n",
    "\"\"\""
   ]
  }
 ],
 "metadata": {
  "kernelspec": {
   "display_name": "Python 3 (ipykernel)",
   "language": "python",
   "name": "python3"
  },
  "language_info": {
   "codemirror_mode": {
    "name": "ipython",
    "version": 3
   },
   "file_extension": ".py",
   "mimetype": "text/x-python",
   "name": "python",
   "nbconvert_exporter": "python",
   "pygments_lexer": "ipython3",
   "version": "3.10.8"
  }
 },
 "nbformat": 4,
 "nbformat_minor": 5
}
