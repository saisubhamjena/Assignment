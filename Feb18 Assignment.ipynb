{
 "cells": [
  {
   "cell_type": "code",
   "execution_count": null,
   "id": "d0a05164-a6bf-42c7-afd5-981d39a70c8a",
   "metadata": {},
   "outputs": [],
   "source": [
    "#Q1. What is an API? Give an example, where an API is used in real life.\n",
    "\"\"\"\n",
    "APIs are used in web applications to connect user-facing front ends with critical back-end functionality and data.\n",
    "\n",
    "APIs are used to deliver material by streaming services such as Spotify and Netflix,automakers such as Tesla to provide software upgrades.\n",
    "\"\"\""
   ]
  },
  {
   "cell_type": "code",
   "execution_count": null,
   "id": "aa03fe82-499b-4a85-8bb4-98da9fc8bedf",
   "metadata": {},
   "outputs": [],
   "source": [
    "#Q2. Give advantages and disadvantages of using API.\n",
    "\"\"\"\n",
    "Advantages:\n",
    "1.You have the code written for you. Just plug and play. Your development time is reduced significantly.\n",
    "2.If you are using standard APIs, then a lot of other people are using that as well. So your codebase is somewhat portable which at \n",
    "   times is beneficial.\n",
    "3.Standard APIs usually have a lot of free community support in case you need troubleshooting. If you tend to write all of your own code\n",
    "  then you are pretty much on your own as far as debugging is concerned.\n",
    "  \n",
    "Disadvantages:\n",
    "1.Well since you are using someone else's code, you have to understand the structure and assumptions of the developer.\n",
    "2.In case you need to tweak existing code to add some extra functionality you might need to wade through layers and layers of files just to\n",
    "  identify the line where you need to make any changes. It can get pretty annoying at times.\n",
    "\"\"\""
   ]
  },
  {
   "cell_type": "code",
   "execution_count": null,
   "id": "051cdaf9-1d86-4ae0-9ec2-24c5198f4bf5",
   "metadata": {},
   "outputs": [],
   "source": [
    "#Q3. What is a Web API? Differentiate between API and Web API.\n",
    "\"\"\"\n",
    "Web API as the name suggests, is an API over the web which can be accessed using HTTP protocol.\n",
    "\"\"\""
   ]
  },
  {
   "cell_type": "code",
   "execution_count": null,
   "id": "3c9d9a5c-937e-48b4-b137-a2ffa44c1783",
   "metadata": {},
   "outputs": [],
   "source": [
    "#Q4. Explain REST and SOAP Architecture. Mention shortcomings of SOAP.\n",
    "\"\"\"\n",
    "REST is a set of architectural principles attuned to the needs of lightweight web services and mobile applications. Because it's a set \n",
    "of guidelines, it leaves the implementation of these recommendations to developers.When a request for data is sent to a REST API, it’s usually\n",
    "done through hypertext transfer protocol (commonly referred to as HTTP).\n",
    "\n",
    "SOAP relies exclusively on XML to provide messaging services. Microsoft originally developed SOAP to take the place of older technologies \n",
    "that don’t work well on the internet such as the Distributed Component Object Model (DCOM) and Common Object Request Broker Architecture (CORBA).\n",
    "These technologies fail because they rely on binary messaging. The XML messaging that SOAP employs works better over the internet.\n",
    "\n",
    "Shortcomings of SOAP\n",
    "1.Resource-consuming: Due to the larger size of an XML-file and a payload created by the massive structure of a message, a SOAP API requires a \n",
    "  larger bandwidth. \n",
    "2.Hard learning curve: Being protocol-based, building SOAP API servers requires knowledge and understanding of all protocols you may use with it.\n",
    "\n",
    "3.Lacks flexibility: This rigid SOAP schema requires additional effort to add n mind, tor remove the message properties on both sides of the \n",
    "  communication, the server and the client. \n",
    "\"\"\"\n"
   ]
  },
  {
   "cell_type": "code",
   "execution_count": null,
   "id": "8f21a07c-de37-44fd-abfd-d2afc58de2a0",
   "metadata": {},
   "outputs": [],
   "source": [
    "#Q5. Differentiate between REST and SOAP.\n",
    "\"\"\"\n",
    "              SOAP API                                                                      REST API\n",
    "\n",
    "1.Relies on SOAP (Simple Object Access Protocol)\t                  |   1.Relies on REST (Representational State Transfer) architecture using HTTP. \n",
    "2.Transports data in standard XML format.\t                          |   2.Generally transports data in JSON. It is based on URI. \n",
    "3.Because it is XML based and relies on SOAP, it works with WSDL\t  |   3.It works with GET, POST, PUT, DELETE\n",
    "4.Works over HTTP, HTTPS, SMTP, XMPP                                  |   4.Works over HTTP and HTTPS\n",
    "5.Highly structured/typed\t                                          |   5.Less structured,less bulky data\n",
    "6.Designed with large enterprise applications in mind\t              |   6.Designed with mobile devices in mind\n",
    "\n",
    "\"\"\""
   ]
  }
 ],
 "metadata": {
  "kernelspec": {
   "display_name": "Python 3 (ipykernel)",
   "language": "python",
   "name": "python3"
  },
  "language_info": {
   "codemirror_mode": {
    "name": "ipython",
    "version": 3
   },
   "file_extension": ".py",
   "mimetype": "text/x-python",
   "name": "python",
   "nbconvert_exporter": "python",
   "pygments_lexer": "ipython3",
   "version": "3.10.8"
  }
 },
 "nbformat": 4,
 "nbformat_minor": 5
}
