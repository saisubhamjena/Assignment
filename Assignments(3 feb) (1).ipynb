{
 "cells": [
  {
   "cell_type": "code",
   "execution_count": 5,
   "id": "a88e9138-48ff-406a-b2dc-f27db636cd11",
   "metadata": {},
   "outputs": [
    {
     "data": {
      "text/plain": [
       "[1, 3, 5, 7, 9, 11, 13, 15, 17, 19, 21, 23, 25]"
      ]
     },
     "execution_count": 5,
     "metadata": {},
     "output_type": "execute_result"
    }
   ],
   "source": [
    "#Q1. Which keyword is used to create a function? Create a function to return a list of odd numbers in the range of 1 to 25.\n",
    "\n",
    "#Ans def keyword is used to create function\n",
    "\n",
    "l=[]\n",
    "def odd_no():\n",
    "    for i in range(1,26):\n",
    "        if i%2!=0:\n",
    "            l.append(i)\n",
    "    return l       \n",
    "            \n",
    "odd_no()"
   ]
  },
  {
   "cell_type": "code",
   "execution_count": 10,
   "id": "69b7f8db-74db-4b2b-83ea-2a33ba800e7b",
   "metadata": {},
   "outputs": [
    {
     "data": {
      "text/plain": [
       "{'a': 2, 'b': 'Sai'}"
      ]
     },
     "execution_count": 10,
     "metadata": {},
     "output_type": "execute_result"
    }
   ],
   "source": [
    "#Q2. Why *args and **kwargs is used in some functions? Create a function each for *args and **kwargs to demonstrate their use.\n",
    "\"\"\"\n",
    "ans These Symbols Used for passing arguments:-\n",
    "    *args (Non-Keyword Arguments)\n",
    "    **kwargs (Keyword Arguments)\"\"\"\n",
    "\n",
    "def func1(*args):\n",
    "    return args\n",
    "\n",
    "def func2(**kwargs):\n",
    "    return kwargs\n",
    "\n",
    "func1(1,2,3,\"Sai\")\n",
    "func2(a=2,b=\"Sai\")"
   ]
  },
  {
   "cell_type": "code",
   "execution_count": 4,
   "id": "4a89b2cf-12a4-49e4-a0a9-33afdcf502f0",
   "metadata": {},
   "outputs": [
    {
     "data": {
      "text/plain": [
       "[4, 6, 8, 10, 12]"
      ]
     },
     "execution_count": 4,
     "metadata": {},
     "output_type": "execute_result"
    }
   ],
   "source": [
    "#Q3. What is an iterator in python? Name the method used to initialise the iterator object and the method used for iteration. \n",
    "#Use these methods to print the first five elements of the given list [2, 4, 6, 8, 10, 12, 14, 16, 18, 20].\n",
    "\n",
    "\"\"\"\n",
    "Iterator in Python is an object that is used to iterate over iterable objects like lists, tuples, dicts, and sets.\n",
    "The iterator object is initialized using the iter() method.The next() method is used for iteration.\n",
    "\"\"\"\n",
    "\n",
    "l=[2, 4, 6, 8, 10, 12, 14, 16, 18, 20]\n",
    "l[1:6]\n"
   ]
  },
  {
   "cell_type": "code",
   "execution_count": null,
   "id": "908c2a9f-d9c3-4b0e-8eb4-87ebc9e8ece9",
   "metadata": {},
   "outputs": [],
   "source": [
    "#Q4. What is a generator function in python? Why yield keyword is used? Give an example of a generator function.\n",
    "\"\"\"\n",
    "A generator-function is defined like a normal function, but whenever it needs to generate a value, it does so \n",
    "with the yield keyword rather than return.\n",
    "yield keyword is used to create a generator function.\n",
    "\"\"\"\n",
    "def generator_name(arg):\n",
    "    yield something"
   ]
  },
  {
   "cell_type": "code",
   "execution_count": null,
   "id": "030cdb36-fcc7-4052-90b3-2742dfc0ec83",
   "metadata": {},
   "outputs": [],
   "source": [
    "#Q5. Create a generator function for prime numbers less than 1000. Use the next() method to print the first 20 prime numbers."
   ]
  },
  {
   "cell_type": "code",
   "execution_count": 6,
   "id": "dbae0c2b-5d6c-46b6-92bd-da359808a5ee",
   "metadata": {},
   "outputs": [
    {
     "name": "stdout",
     "output_type": "stream",
     "text": [
      "1\n",
      "2\n",
      "3\n",
      "5\n",
      "8\n",
      "13\n",
      "21\n",
      "34\n",
      "55\n",
      "89\n",
      "144\n"
     ]
    }
   ],
   "source": [
    "#Q6. Write a python program to print the first 10 Fibonacci numbers using a while loop.\n",
    "\n",
    "n=0\n",
    "a=0\n",
    "b=1\n",
    "\n",
    "while n<=10:\n",
    "    c=a+b\n",
    "    a=b\n",
    "    b=c\n",
    "    n+=1\n",
    "    print(c)\n",
    "    "
   ]
  },
  {
   "cell_type": "code",
   "execution_count": 9,
   "id": "aa8d21f2-564e-4191-9d33-8fd5da6ec7ea",
   "metadata": {},
   "outputs": [
    {
     "data": {
      "text/plain": [
       "['p', 'w', 's', 'k', 'i', 'l', 'l', 's']"
      ]
     },
     "execution_count": 9,
     "metadata": {},
     "output_type": "execute_result"
    }
   ],
   "source": [
    "#Q7. Write a List Comprehension to iterate through the given string: ‘pwskills’.Expected output: ['p', 'w', 's', 'k', 'i', 'l', 'l', 's']\n",
    "\n",
    "s=\"pwskills\"\n",
    "[i for i in s ]"
   ]
  },
  {
   "cell_type": "code",
   "execution_count": 1,
   "id": "0f8e1a64-a6a0-4711-912d-64b9521a16eb",
   "metadata": {},
   "outputs": [
    {
     "name": "stdin",
     "output_type": "stream",
     "text": [
      "Enetr a number:  12321\n"
     ]
    },
    {
     "name": "stdout",
     "output_type": "stream",
     "text": [
      "Palindrum\n"
     ]
    }
   ],
   "source": [
    "#Q8. Write a python program to check whether a given number is Palindrome or not using a while loop.\n",
    "\n",
    "n=input(\"Enetr a number: \")\n",
    "l=len(n)\n",
    "i=0\n",
    "\n",
    "while i<= l//2:\n",
    "    if n[i]==n[l-1]:\n",
    "        i+=1\n",
    "        l-=1\n",
    "print(\"Palindrum\")"
   ]
  },
  {
   "cell_type": "code",
   "execution_count": 11,
   "id": "089050c7-0095-4943-8fae-f061ba5628b1",
   "metadata": {},
   "outputs": [],
   "source": [
    "#Q9 . Write a code to print odd numbers from 1 to 100 using list comprehension.\n",
    "\n",
    "[i for i in range(1,101) if i%2!=0]"
   ]
  },
  {
   "cell_type": "code",
   "execution_count": null,
   "id": "c530236a-b599-495a-8795-3343d729c189",
   "metadata": {},
   "outputs": [],
   "source": []
  },
  {
   "cell_type": "code",
   "execution_count": null,
   "id": "e90ad232-928b-4854-970a-f39c0890951e",
   "metadata": {},
   "outputs": [],
   "source": []
  },
  {
   "cell_type": "code",
   "execution_count": null,
   "id": "512778f8-2fd8-4e0b-857d-c581dd7b8c9c",
   "metadata": {},
   "outputs": [],
   "source": []
  },
  {
   "cell_type": "code",
   "execution_count": null,
   "id": "a4d3fb17-34c6-4a63-8f17-419daa9db80f",
   "metadata": {},
   "outputs": [],
   "source": []
  },
  {
   "cell_type": "code",
   "execution_count": null,
   "id": "28d9e4b3-c4c9-40cc-a1cb-c7a5fb20dd8a",
   "metadata": {},
   "outputs": [],
   "source": []
  }
 ],
 "metadata": {
  "kernelspec": {
   "display_name": "Python 3 (ipykernel)",
   "language": "python",
   "name": "python3"
  },
  "language_info": {
   "codemirror_mode": {
    "name": "ipython",
    "version": 3
   },
   "file_extension": ".py",
   "mimetype": "text/x-python",
   "name": "python",
   "nbconvert_exporter": "python",
   "pygments_lexer": "ipython3",
   "version": "3.10.8"
  }
 },
 "nbformat": 4,
 "nbformat_minor": 5
}
