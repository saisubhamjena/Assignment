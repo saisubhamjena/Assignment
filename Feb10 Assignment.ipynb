{
 "cells": [
  {
   "cell_type": "code",
   "execution_count": 3,
   "id": "93b65896-246e-4eb0-bff2-5a9379cce352",
   "metadata": {},
   "outputs": [],
   "source": [
    "#Q1. Which function is used to open a file? What are the different modes of opening a file? Explain each mode of file opening.\n",
    "\n",
    "\"\"\"\n",
    "open() function is used to open a file.\n",
    "\n",
    "Different modes of openning  file are:\n",
    "\n",
    "Text mode\n",
    "1.‘r’ : Open text file for reading.  \n",
    "2.‘r+’: Open the file for reading and writing. \n",
    "3.‘w’ : Open the file for writing. \n",
    "4.‘w+’: Open the file for reading and writing. \n",
    "5.‘a’ : Open the file for writing. \n",
    "6.‘a+’: Open the file for reading and writing.\n",
    "\n",
    "Binary mode\n",
    "1.\"rb\": opens the file in binary format for reading\n",
    "2.\"wb\": opens the file in binary format for writing.\n",
    "\"\"\"\n"
   ]
  },
  {
   "cell_type": "code",
   "execution_count": null,
   "id": "0e8a0444-b90b-444f-8d4a-9112bbd48159",
   "metadata": {},
   "outputs": [],
   "source": [
    "#Q2. Why close() function is used? Why is it important to close a file?\n",
    "\"\"\"\n",
    "The close() function in Python, used to close a file. That is, when a file is opened using open() function and all the operation has \n",
    "been done on the file, then the file object or handler must be closed using the close() function to break the linkage of file from the program.\n",
    "\"\"\""
   ]
  },
  {
   "cell_type": "code",
   "execution_count": 3,
   "id": "0ccc6e81-24c1-4cfc-8afe-c60eb8fb3d4c",
   "metadata": {},
   "outputs": [
    {
     "data": {
      "text/plain": [
       "'I want to become a Data Scientist'"
      ]
     },
     "execution_count": 3,
     "metadata": {},
     "output_type": "execute_result"
    }
   ],
   "source": [
    "#Q3. Write a python program to create a text file. Write ‘I want to become a Data Scientist’ in that file. Then close the file. \n",
    "#Open this file and read the content of the file.  \n",
    "\n",
    "f=open(\"ques3.txt\",'w')\n",
    "f.write(\"I want to become a Data Scientist\")\n",
    "f.close()\n",
    "\n",
    "file=open(\"ques3.txt\",'r')\n",
    "file.read()"
   ]
  },
  {
   "cell_type": "code",
   "execution_count": null,
   "id": "98ad6750-d160-4783-9709-f16b39371364",
   "metadata": {},
   "outputs": [],
   "source": [
    "#Q4. Explain the following with python code: read(), readline() and readlines().\n",
    "\n",
    "\"\"\"\n",
    "1. read(): returns the specified number of bytes from the file. Default is -1 which means the whole file.\n",
    "2. readline(): The readline() method returns one line from the file\n",
    "3. readlines(): he readlines() method returns a list containing each line in the file as a list item.\n",
    "\"\"\""
   ]
  },
  {
   "cell_type": "code",
   "execution_count": 4,
   "id": "af090dc7-292a-4cfa-a239-48e011edbdf3",
   "metadata": {},
   "outputs": [],
   "source": [
    "#Q5. Explain why with statement is used with open(). What is the advantage of using with statement and open() together?\n",
    "\"\"\"\n",
    "The with statement works with the open() function to open a file. Unlike open() where you have to close the file with the close() method, \n",
    "the with statement closes the file for you without you telling it to.\n",
    "\"\"\""
   ]
  },
  {
   "cell_type": "code",
   "execution_count": null,
   "id": "bde2fb1b-1561-41bc-878d-fe21513ded13",
   "metadata": {},
   "outputs": [],
   "source": [
    "#Q6. Explain the write() and writelines() functions. Give a suitable example.\n",
    "\"\"\"\n",
    "1.write(): used to write the content in the file without adding any extra characters.\"\"\"\n",
    "\n",
    "f = open(\"demofile1.txt\", \"a\")\n",
    "f.write(\"THis is first line\")\n",
    "f.close()\n",
    "\n",
    "\"\"\"\n",
    "2.writelines(): used to write multiple lines of text or string to a file at once.\"\"\"\n",
    "\n",
    "f = open(\"demofile2.txt\", \"a\")\n",
    "f.writelines([\"This is first line\", \"This is second line.\"])\n",
    "f.close()"
   ]
  }
 ],
 "metadata": {
  "kernelspec": {
   "display_name": "Python 3 (ipykernel)",
   "language": "python",
   "name": "python3"
  },
  "language_info": {
   "codemirror_mode": {
    "name": "ipython",
    "version": 3
   },
   "file_extension": ".py",
   "mimetype": "text/x-python",
   "name": "python",
   "nbconvert_exporter": "python",
   "pygments_lexer": "ipython3",
   "version": "3.10.8"
  }
 },
 "nbformat": 4,
 "nbformat_minor": 5
}
