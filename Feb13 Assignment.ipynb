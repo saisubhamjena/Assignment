{
 "cells": [
  {
   "cell_type": "code",
   "execution_count": null,
   "id": "b12945b0-80f3-4a7b-bba3-73deb4dc9c95",
   "metadata": {},
   "outputs": [],
   "source": [
    "#Q1. Explain why we have to use the Exception class while creating a Custom Exception.(Here Exception class refers to the base class for all the exceptions.)\n",
    "\"\"\"\n",
    "Exception class while creating a Custom exceptions provide you the flexibility to add attributes and methods that are not part of a builtin \n",
    "python exception. These can store additional information, like an application-specific error code, or provide utility methods that can be used \n",
    "to handle or present the exception to a user\n",
    "\"\"\""
   ]
  },
  {
   "cell_type": "code",
   "execution_count": 2,
   "id": "d5130493-ee8f-4605-a1d7-4d951fc05aad",
   "metadata": {},
   "outputs": [],
   "source": [
    "#Q2. Write a python program to print Python Exception Hierarchy.\n",
    "\n",
    "import inspect\n",
    "\n",
    "def treeClass(cls, ind = 0):\n",
    "    print ('-' * ind, cls.__name__)\n",
    "    for i in cls.__subclasses__():\n",
    "        treeClass(i, ind + 3)\n",
    "  \n",
    "    print(\"Hierarchy for Built-in exceptions is : \")\n",
    "\n",
    "inspect.getclasstree(inspect.getmro(BaseException))\n",
    "treeClass(BaseException)"
   ]
  },
  {
   "cell_type": "code",
   "execution_count": null,
   "id": "1295ed0f-1d25-4405-9fe9-f7b22debd0d4",
   "metadata": {},
   "outputs": [],
   "source": [
    "#Q3. What errors are defined in the ArithmeticError class? Explain any two with an example.\n",
    "\"\"\"\n",
    "ArithmeticError is simply an error that occurs during numeric calculations. \n",
    "ArithmeticError types in Python include: OverFlowError, ZeroDivisionError & FloatingpointError\"\"\"\n",
    "\n",
    "#Ex1\n",
    "import math\n",
    "try:\n",
    "    print(\"The exponential value is\")\n",
    "    print(math.exp(1000))\n",
    "except OverflowError as oe:\n",
    "    print(\"I am trying to handle overflow error\", oe)\n",
    "    \n",
    "#Ex2  \n",
    "try:\n",
    "    d=5/0\n",
    "except ZeroDivisionError as e:\n",
    "    print(\"I am trying to handle zero division error\",e)\n",
    "    "
   ]
  },
  {
   "cell_type": "code",
   "execution_count": null,
   "id": "e48e2c91-9af9-4d86-a30e-663d2622304b",
   "metadata": {},
   "outputs": [],
   "source": [
    "#Q4. Why LookupError class is used? Explain with an example KeyError and IndexError.\n",
    "\"\"\"\n",
    "LookupError Exception is the Base class for errors raised when something can't be found. The base class for the exceptions that are\n",
    "raised when a key or index used on a mapping or sequence is invalid:\n",
    "\"\"\" \n",
    "\n",
    "#IndexError: here index of list l is upto 3 but we tried to print the element at index 6.\n",
    "try:\n",
    "    l=[1,2,3,4]\n",
    "    print(l[6])\n",
    "except IndexError as e:\n",
    "    print(e)\n",
    "\n",
    "#KeyError: here key3 is not difined inside dictionary d.\n",
    "try:\n",
    "    d={\"key1\":\"value1\",\"key2\":\"value2\"}\n",
    "    print(d[\"key3\"])\n",
    "except KeyError as e:\n",
    "    print(e)"
   ]
  },
  {
   "cell_type": "code",
   "execution_count": null,
   "id": "020f0f04-2a37-429d-b329-5d9d3b2dccc1",
   "metadata": {},
   "outputs": [],
   "source": [
    "#Q5. Explain ImportError. What is ModuleNotFoundError?\n",
    "\"\"\"\n",
    "ImportError generally occurs when a class cannot be imported due to one of the following reasons:\n",
    "1.The imported class is unavailable or was not created.\n",
    "2.The imported class is in a circular dependency.\n",
    "\n",
    "ModuleNotFoundError occur when we do not have the module we tried importing ,installed on your computer.\n",
    "\"\"\""
   ]
  },
  {
   "cell_type": "code",
   "execution_count": null,
   "id": "85f3076f-12fa-4064-9cd1-eff09bc5b0c4",
   "metadata": {},
   "outputs": [],
   "source": [
    "#Q6. List down some best practices for exception handling in python.\n",
    "\"\"\"\n",
    "1.Always use specific exception\n",
    "2.Always print a proper message\n",
    "3.Always use logging\n",
    "4.Always try to document all error\n",
    "5.Always cleanup the resources\n",
    "6.Always try to avoid multiple exception handling\n",
    "\"\"\""
   ]
  }
 ],
 "metadata": {
  "kernelspec": {
   "display_name": "Python 3 (ipykernel)",
   "language": "python",
   "name": "python3"
  },
  "language_info": {
   "codemirror_mode": {
    "name": "ipython",
    "version": 3
   },
   "file_extension": ".py",
   "mimetype": "text/x-python",
   "name": "python",
   "nbconvert_exporter": "python",
   "pygments_lexer": "ipython3",
   "version": "3.10.8"
  }
 },
 "nbformat": 4,
 "nbformat_minor": 5
}
