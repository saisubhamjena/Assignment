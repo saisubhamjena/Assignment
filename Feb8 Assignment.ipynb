{
 "cells": [
  {
   "cell_type": "code",
   "execution_count": 8,
   "id": "7cc7aafa-c0de-41ba-84c2-4a9005f30586",
   "metadata": {},
   "outputs": [],
   "source": [
    "#Q1. What is Abstraction in OOps? Explain with an example.\n",
    "\"\"\"\n",
    "Abstraction in python is defined as a process of handling complexity by hiding unnecessary information from the user. \n",
    "That enables the user to implement even more complex logic on top of the provided abstraction without understanding or \n",
    "even thinking about all the hidden background/back-end complexity.\n",
    "\n",
    "Ex:In social platforms we contact our friends, chat, share images etc., but we don’t know how these operations are\n",
    "happening in the background. \n",
    "\"\"\""
   ]
  },
  {
   "cell_type": "code",
   "execution_count": 3,
   "id": "89a67f1e-3367-4b6e-ad54-0a41cda997d2",
   "metadata": {},
   "outputs": [],
   "source": [
    "#Q2. Differentiate between Abstraction and Encapsulation. Explain with an example.\n",
    "\"\"\"\n",
    "Abstraction is hiding the details and implementation of the code. Abstraction is a design level process.\n",
    "Ex: Suppose you want to develop a banking application and are asked to gather all the details of your customer. You may gather some\n",
    "    details that are irrelevant when developing a banking application. Hence, you have to choose only valuable information like name, \n",
    "    address, tax info, etc. The process of fetching, removing, and selecting the customer information from a pool of data is called Abstraction.\n",
    "    \n",
    "Encapsulation is hiding the data and controlling the visibility of the code.Encapsulation is an implementation level process.\n",
    "Ex: Using smartphones, you can perform tasks like capturing photos, recording audio/video, listening to music, accessing the web, etc. \n",
    "    These features are common in all smartphones. You don’t have to understand the internal working of these features.\n",
    "\"\"\""
   ]
  },
  {
   "cell_type": "code",
   "execution_count": 4,
   "id": "9d243f85-d433-45ae-948a-e6285e5cf449",
   "metadata": {},
   "outputs": [],
   "source": [
    "#Q3. What is abc module in python? Why is it used?\n",
    "\"\"\"\n",
    "The abc module in Python library provides the infrastructure for defining custom abstract base classes.\n",
    "abc works by marking methods of the base class as abstract. This is done by @absttractmethod decorator.\n"
   ]
  },
  {
   "cell_type": "code",
   "execution_count": 5,
   "id": "9757e4b3-9dda-4fb8-9253-58665abd73e0",
   "metadata": {},
   "outputs": [],
   "source": [
    "#Q4. How can we achieve data abstraction?\n",
    "\"\"\"\n",
    "Data Abstraction in Python can be achieved through creating abstract classes and inheriting them later.\n",
    "\"\"\""
   ]
  },
  {
   "cell_type": "code",
   "execution_count": 6,
   "id": "3f409cf0-2cc3-444b-ac43-7c53d2fa9cf6",
   "metadata": {},
   "outputs": [],
   "source": [
    "#Q5. Can we create an instance of an abstract class? Explain your answer.\n",
    "\"\"\"\n",
    "We cannot create an abstract class in Python directly. However, Python does provide a module that allows us to define abstract classes.\n",
    "The module we can use to create an abstract class in Python is abc(abstract base class) module.\n",
    "\"\"\"\n"
   ]
  },
  {
   "cell_type": "code",
   "execution_count": null,
   "id": "4e39f822-a854-4692-9f0d-881304fb5375",
   "metadata": {},
   "outputs": [],
   "source": []
  }
 ],
 "metadata": {
  "kernelspec": {
   "display_name": "Python 3 (ipykernel)",
   "language": "python",
   "name": "python3"
  },
  "language_info": {
   "codemirror_mode": {
    "name": "ipython",
    "version": 3
   },
   "file_extension": ".py",
   "mimetype": "text/x-python",
   "name": "python",
   "nbconvert_exporter": "python",
   "pygments_lexer": "ipython3",
   "version": "3.10.8"
  }
 },
 "nbformat": 4,
 "nbformat_minor": 5
}
