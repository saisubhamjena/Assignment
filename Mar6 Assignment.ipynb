{
 "cells": [
  {
   "cell_type": "code",
   "execution_count": null,
   "id": "5b191e7c-af1a-47ad-9610-8257772c1483",
   "metadata": {},
   "outputs": [],
   "source": [
    "#Q1. What is Statistics?\n",
    "\"\"\"\n",
    "Science of collecting ,organising and analysing data for better dicision making.\"\"\""
   ]
  },
  {
   "cell_type": "code",
   "execution_count": null,
   "id": "eb8e1a26-04ad-424f-992b-4b78091e5215",
   "metadata": {},
   "outputs": [],
   "source": [
    "#Q2. Define the different types of statistics and give an example of when each type might be used.\n",
    "\"\"\"\n",
    "Types of statistics:\n",
    "1. Discriptive: Consist of organising and summarising of data.\n",
    "    Ex: Measuring the average mark of the class.\n",
    "    \n",
    "2. Inferencial: It consist of data you have measured to form conclusion.\n",
    "    Ex: Are the maths marks of the class related to english marks.\n",
    "\"\"\""
   ]
  },
  {
   "cell_type": "code",
   "execution_count": null,
   "id": "6395db4f-0ef3-4305-a52c-3df1831d441a",
   "metadata": {},
   "outputs": [],
   "source": [
    "#Q3. What are the different types of data and how do they differ from each other? Provide an example of each type of data.\n",
    "\"\"\"\n",
    "Different types of data are:\n",
    "\n",
    "1. Quantitative: There are measured numerically and arithmatic operations can be appiled.\n",
    "  i. Discrete: It takes only whole numbers.\n",
    "     Ex: Number of courses.\n",
    "  ii.Continious: It can take any value.\n",
    "     Ex: Speed of a car.\n",
    "  \n",
    "2. Qualitative: They are catagorical values and based on characteristics.\n",
    "  i. Nominal: It doesn't have any rank.\n",
    "     Ex: Gender,Blood group\n",
    "  ii.Ordinal: They are catagorised with rank.\n",
    "     Wx: Grade, Rating\n",
    "\"\"\""
   ]
  },
  {
   "cell_type": "code",
   "execution_count": null,
   "id": "26b9653c-c4c4-4b48-9c3e-b14bbe21c4d9",
   "metadata": {},
   "outputs": [],
   "source": [
    "#Q4. Categorise the following datasets with respect to quantitative and qualitative data types:\n",
    "\n",
    "#(i) Grading in exam: A+, A, B+, B, C+, C, D, E\n",
    "    \"\"\"Quantative, Ordinal \"\"\"\n",
    "#(ii) Colour of mangoes: yellow, green, orange, red\n",
    "    \"\"\"Quantative, Nominal\"\"\"\n",
    "#(iii) Height data of a class: [178.9, 179, 179.5, 176, 177.2, 178.3, 175.8,...]\n",
    "    \"\"\"Quantitative, Continious\"\"\"\n",
    "#(iv) Number of mangoes exported by a farm: [500, 600, 478, 672, ...]\n",
    "    \"\"\"Quantitative, Discrete\"\"\""
   ]
  },
  {
   "cell_type": "code",
   "execution_count": null,
   "id": "618f918a-f90d-4d0f-87f0-861a271789f7",
   "metadata": {},
   "outputs": [],
   "source": [
    "#Q5. Explain the concept of levels of measurement and give an example of a variable for each level.\n",
    "\"\"\"\n",
    "Levels of measurement, also called scales of measurement, tell you how precisely variables are recorded.\n",
    "\n",
    "There are 4 levels of measurement:\n",
    "1.Nominal: the data can only be categorized\n",
    "2.Ordinal: the data can be categorized and ranked\n",
    "3.Interval: the data can be categorized, ranked, and evenly spaced\n",
    "4.Ratio: the data can be categorized, ranked, evenly spaced, and has a natural zero.\n",
    "\"\"\""
   ]
  },
  {
   "cell_type": "code",
   "execution_count": null,
   "id": "a8c87ed1-ecb0-4de9-a9a8-49be913102b6",
   "metadata": {},
   "outputs": [],
   "source": [
    "#Q6. Why is it important to understand the level of measurement when analyzing data? Provide an example to illustrate your answer.\n",
    "\"\"\"\n",
    "Knowing the level of measurement of your variables is important for two reasons. Each of the levels of measurement provides a different level \n",
    "of detail.  Nominal provides the least amount of detail, ordinal provides the next highest amount of detail, and interval and ratio provide the \n",
    "most amount of detail.\n",
    "\n",
    "Ex: In a nominal level variable, values are grouped into categories that have no meaningful order.For example, gender and political affiliation \n",
    "    are nominal level variables.  Members in the group are assigned a label in that group and there is no hierarchy.Typical descriptive statistics\n",
    "    associated with nominal data are frequencies and percentages.\n",
    "\"\"\""
   ]
  },
  {
   "cell_type": "code",
   "execution_count": null,
   "id": "f95bec4f-02e2-4569-83a0-c44550d59e32",
   "metadata": {},
   "outputs": [],
   "source": [
    "#Q7. How nominal data type is different from ordinal data type.\n",
    "\"\"\"\n",
    "        Nominal                            |             Ordinal\n",
    "There is no rank to the data sets          |       This dataset can be ranked\n",
    "Only Mode can be obtained                  |       Mode and median can be obtained\n",
    "It can't be sequenced                      |       It can be sequenced\n",
    "\"\"\""
   ]
  },
  {
   "cell_type": "code",
   "execution_count": null,
   "id": "630bdd49-afba-4012-866d-c3a93e473ea1",
   "metadata": {},
   "outputs": [],
   "source": [
    "#Q8. Which type of plot can be used to display data in terms of range?\n",
    "\"\"\"Histogram\"\"\""
   ]
  },
  {
   "cell_type": "code",
   "execution_count": null,
   "id": "47c06449-e642-4121-8254-c82a0f013daa",
   "metadata": {},
   "outputs": [],
   "source": [
    "#Q9. Describe the difference between descriptive and inferential statistics. Give an example of each type of statistics and explain how they are used.\n",
    "\"\"\"\n",
    "Types of statistics:\n",
    "1. Discriptive: Consist of organising and summarising of data.\n",
    "    Ex: Measurement of central tendency\n",
    "        Use to measure the average Measuring the average value of a data set.\n",
    "    \n",
    "2. Inferencial: It consist of data you have measured to form conclusion.\n",
    "    Ex: Hypothesis Testing\n",
    "        Used to evaluate the strength of evidence from the sample.\n",
    "\"\"\""
   ]
  },
  {
   "cell_type": "code",
   "execution_count": null,
   "id": "1187100f-910c-426d-aaba-9fdfb2f4c16b",
   "metadata": {},
   "outputs": [],
   "source": [
    "#Q10.What are some common measures of central tendency and variability used in statistics?Explain how each measure can be used to describe a dataset.\n",
    "\"\"\"\n",
    "Measures of central tendency are summary statistics that represent the center point or typical value of a dataset.\n",
    "\n",
    "1. Mean: It shows the average value of the data set.\n",
    "2. Median: It represent where the middle value of the data set lies.\n",
    "3. Mode: It shows which data point has maximum frequency.\n",
    "\"\"\"\n"
   ]
  }
 ],
 "metadata": {
  "kernelspec": {
   "display_name": "Python 3 (ipykernel)",
   "language": "python",
   "name": "python3"
  },
  "language_info": {
   "codemirror_mode": {
    "name": "ipython",
    "version": 3
   },
   "file_extension": ".py",
   "mimetype": "text/x-python",
   "name": "python",
   "nbconvert_exporter": "python",
   "pygments_lexer": "ipython3",
   "version": "3.10.8"
  }
 },
 "nbformat": 4,
 "nbformat_minor": 5
}
