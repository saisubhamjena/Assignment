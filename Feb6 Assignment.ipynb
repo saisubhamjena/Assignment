{
 "cells": [
  {
   "cell_type": "code",
   "execution_count": 13,
   "id": "b29fbcda-6acd-4a70-be42-754664d9b24f",
   "metadata": {},
   "outputs": [
    {
     "name": "stdout",
     "output_type": "stream",
     "text": [
      "List of all numbers= [1, 2, 3, 4, 44, 55, 66, 34, 56, 78, 89, 34, 1, 2, 3, 56, 34, 55, 67, 78, 89, 45, 22, 61, 34, 1, 4]\n",
      "Product of all the elements in the list=  1018\n"
     ]
    }
   ],
   "source": [
    "#Q1. Create a function which will take a list as an argument and return the product of all the numbers after creating a flat list.Use the below-given list as an argument for your function.\n",
    "    #Note: you must extract numeric keys and values of the dictionary also.\n",
    "#ans\n",
    "\n",
    "list1 = [1,2,3,4, [44,55,66, True], False, (34,56,78,89,34), {1,2,3,3,2,1}, {1:34, \"key2\": [55, 67, 78, 89], 4: (45,22, 61, 34)}, [56, 'data science'], 'Machine Learning']\n",
    "    \n",
    "    \n",
    "list_num=[]\n",
    "\n",
    "for i in list1:\n",
    "    if type(i)==int:\n",
    "        list_num.append(i)\n",
    "    elif type(i)==list or type(i)==tuple or type(i)==set:\n",
    "        for i in i:\n",
    "            if type(i)==int:\n",
    "                list_num.append(i)\n",
    "    elif type(i)==set:\n",
    "        for i in i:\n",
    "            if type(i)==int:\n",
    "                list_num.append(i)\n",
    "    elif type(i)==dict:\n",
    "        l=list(i.values())+list(i.keys())\n",
    "        l1=[]\n",
    "        for i in l:\n",
    "            if type(i)==int:\n",
    "                l1.append(i)\n",
    "                \n",
    "            elif type(i)==list or type(i)==tuple:\n",
    "                for i in i:\n",
    "                    l1.append(i)\n",
    "\n",
    "total=(list_num+l1)\n",
    "print(\"List of all numbers=\",total)\n",
    "\n",
    "product=0\n",
    "for j in total:\n",
    "    product=product+j\n",
    "print(\"Product of all the elements in the list= \",product)\n",
    "    "
   ]
  },
  {
   "cell_type": "code",
   "execution_count": 18,
   "id": "3571dd47-6a85-4fea-a460-8b6a76051649",
   "metadata": {},
   "outputs": [
    {
     "name": "stdout",
     "output_type": "stream",
     "text": [
      "Original message:  I want to become a Data Scientist.\n",
      "Encrypted message:  c$damg$gc$beccme$a$daga$hccemgchg.\n"
     ]
    }
   ],
   "source": [
    "\"\"\"Q2. Write a python program for encrypting a message sent to you by your friend. The logic of encryptionshould be such that, \n",
    "       for a, the output should be z. For b, the output should be y. For c, the output shouldbe x respectively. Also, the whitespace \n",
    "       should be replaced with a dollar sign. Keep the punctuation marks unchanged.\"\"\"\n",
    "#Ans\n",
    "\n",
    "s= \"I want to become a Data Scientist.\"\n",
    "\n",
    "s_low=s.lower()\n",
    "\n",
    "d={\"a\":\"z\",\"b\":\"y\",\"c\":\"x\",\"d\":\"w\",\"e\":\"v\",\"f\":\"u\",\"g\":\"t\",\"h\":\"s\",\"i\":\"r\",\"j\":\"q\",\"k\":\"p\",\"l\":\"o\",\"m\":\"n\",\"n\":\"m\",\"o\":\"l\",\"p\":\"k\",\"q\":\"j\",\"r\":\"i\",\n",
    "   \"s\":\"h\",\"t\":\"g\",\"u\":\"f\",\"v\":\"e\",\"w\":\"d\",\"x\":\"c\",\"y\":\"b\",\"z\":\"a\",\"o\":\"x\",\"p\":\"z\",\"q\":\"y\",\"r\":\"x\",\" \":\"$\"}\n",
    "\n",
    "for i in d:\n",
    "    s_low=s_low.replace(i,d[i])\n",
    "print(\"Original message: \",s)    \n",
    "print(\"Encrypted message: \",s_low)"
   ]
  },
  {
   "cell_type": "code",
   "execution_count": null,
   "id": "f38871d5-29b0-4d72-9fea-1bd0720a16fa",
   "metadata": {},
   "outputs": [],
   "source": []
  }
 ],
 "metadata": {
  "kernelspec": {
   "display_name": "Python 3 (ipykernel)",
   "language": "python",
   "name": "python3"
  },
  "language_info": {
   "codemirror_mode": {
    "name": "ipython",
    "version": 3
   },
   "file_extension": ".py",
   "mimetype": "text/x-python",
   "name": "python",
   "nbconvert_exporter": "python",
   "pygments_lexer": "ipython3",
   "version": "3.10.8"
  }
 },
 "nbformat": 4,
 "nbformat_minor": 5
}
