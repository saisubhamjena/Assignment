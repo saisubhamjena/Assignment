{
 "cells": [
  {
   "cell_type": "code",
   "execution_count": 1,
   "id": "669164dd-ad4e-43c7-add0-8d4d7c1d1cdc",
   "metadata": {},
   "outputs": [],
   "source": [
    "#1 Explain with an example each when to use a for loop and a while loop.\n",
    "\"\"\"\n",
    "    For loop is used when number of iteration is known\n",
    "    Ex: for i in range(11):\n",
    "        print i\n",
    "       \n",
    "    While loop is used when nmber of iteration is unknown\n",
    "    Ex: i = 0\n",
    "        while i <= 10:\n",
    "        print i\n",
    "        i = i + 1\n",
    "\"\"\""
   ]
  },
  {
   "cell_type": "code",
   "execution_count": 12,
   "id": "41c27304-14a9-410d-960b-08c02da7a4fb",
   "metadata": {},
   "outputs": [
    {
     "name": "stdout",
     "output_type": "stream",
     "text": [
      "Sum of first 10 natural numbers:  55\n",
      "Product of first 10 natural numbers:  3628800\n"
     ]
    }
   ],
   "source": [
    "#2 Write a python program to print the sum and product of the first 10 natural numbers using for and while loop.\n",
    "\n",
    "sum_10=0\n",
    "product_10=1\n",
    "for i in range(1,11):\n",
    "    sum_10=sum_10+i\n",
    "    product_10=product_10*i\n",
    "\n",
    "print('Sum of first 10 natural numbers: ',sum_10)\n",
    "print('Product of first 10 natural numbers: ',product_10)    "
   ]
  },
  {
   "cell_type": "code",
   "execution_count": 13,
   "id": "2bd63f8e-43f0-441e-93f0-a5707f20720e",
   "metadata": {},
   "outputs": [
    {
     "name": "stdin",
     "output_type": "stream",
     "text": [
      "Enter the unit of electicity consumed:  310\n"
     ]
    },
    {
     "name": "stdout",
     "output_type": "stream",
     "text": [
      "Electricity bill= Rs  2250.0\n"
     ]
    }
   ],
   "source": [
    "#3 Create a python program to compute the electricity bill for a household.\n",
    "\n",
    "u=int(input(\"Enter the unit of electicity consumed: \"))\n",
    "\n",
    "if u<=100:\n",
    "    b=u*4.5\n",
    "elif u>100 and u <=200:\n",
    "    b=100*4.5+(u-100)*6\n",
    "elif u>200 and u <=300:\n",
    "    b=100*4.5+100*6+(u-200)*10\n",
    "else:\n",
    "    b=100*4.5+100*6+100*10+(u-300)*20\n",
    "    \n",
    "print(\"Electricity bill= Rs \",b)"
   ]
  },
  {
   "cell_type": "code",
   "execution_count": 18,
   "id": "7d4011c5-ed8a-4ba6-bff0-aff4ab39921b",
   "metadata": {},
   "outputs": [
    {
     "name": "stdout",
     "output_type": "stream",
     "text": [
      "[8, 64, 125, 216, 512, 1000, 1728, 2744, 3375, 4096, 5832, 8000, 10648, 13824, 15625, 17576, 21952, 27000, 32768, 39304, 42875, 46656, 54872, 64000, 74088, 85184, 91125, 97336, 110592, 125000, 140608, 157464, 166375, 175616, 195112, 216000, 238328, 262144, 274625, 287496, 314432, 343000, 373248, 405224, 421875, 438976, 474552, 512000, 551368, 592704, 614125, 636056, 681472, 729000, 778688, 830584, 857375, 884736, 941192, 1000000]\n"
     ]
    }
   ],
   "source": [
    "#4 Create a list of numbers from 1 to 100. Use for loop and while loop to calculate the cube of each number and if the cube of that number is divisible by 4 or 5 then append that number in a list and print that list.\n",
    "\n",
    "l=[]\n",
    "for i in range (1,101):\n",
    "    c=i**3\n",
    "    if c%4==0 or c%5==0:\n",
    "        l.append(c)\n",
    "print(l)"
   ]
  },
  {
   "cell_type": "code",
   "execution_count": 24,
   "id": "6fa7509b-dba5-4212-9cf8-39c4b0972875",
   "metadata": {},
   "outputs": [
    {
     "name": "stdout",
     "output_type": "stream",
     "text": [
      "Total number of vowels are:  12\n"
     ]
    }
   ],
   "source": [
    "#5. Write a program to filter count vowels in the below-given string.string = \"I want to become a data scientist\"\n",
    "\n",
    "string=\"I want to become a data scientist\"\n",
    "counter=0\n",
    "for i in string:\n",
    "    if i==\"A\" or i==\"a\" or i==\"E\" or i==\"e\" or i==\"I\" or i==\"i\" or i==\"O\" or i==\"o\" or i==\"U\" or i==\"u\":\n",
    "        counter+=1\n",
    "        \n",
    "print(\"Total number of vowels are: \",counter)\n"
   ]
  },
  {
   "cell_type": "code",
   "execution_count": null,
   "id": "fe168637-dbfa-4059-b735-8df456757f7f",
   "metadata": {},
   "outputs": [],
   "source": []
  },
  {
   "cell_type": "code",
   "execution_count": null,
   "id": "8b4bfeac-1af8-41c4-abd7-1cec49af088c",
   "metadata": {},
   "outputs": [],
   "source": []
  }
 ],
 "metadata": {
  "kernelspec": {
   "display_name": "Python 3 (ipykernel)",
   "language": "python",
   "name": "python3"
  },
  "language_info": {
   "codemirror_mode": {
    "name": "ipython",
    "version": 3
   },
   "file_extension": ".py",
   "mimetype": "text/x-python",
   "name": "python",
   "nbconvert_exporter": "python",
   "pygments_lexer": "ipython3",
   "version": "3.10.8"
  }
 },
 "nbformat": 4,
 "nbformat_minor": 5
}
