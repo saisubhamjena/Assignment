{
 "cells": [
  {
   "cell_type": "code",
   "execution_count": 2,
   "id": "883dcb4a-b449-44fb-83c3-cb4c27fe24de",
   "metadata": {},
   "outputs": [
    {
     "data": {
      "text/plain": [
       "('laFerrari', 300, 5)"
      ]
     },
     "execution_count": 2,
     "metadata": {},
     "output_type": "execute_result"
    }
   ],
   "source": [
    "#Q1, Create a vehicle class with an init method having instance variables as name_of_vehicle, max_speed and average_of_vehicle. \n",
    "\n",
    "class vehicle:\n",
    "    def __init__(self,name_of_vehicle, max_speed, average_of_vehicle):\n",
    "        self.name_of_vehicle=name_of_vehicle\n",
    "        self.max_speed=max_speed\n",
    "        self.average_of_vehicle=average_of_vehicle\n",
    "        \n",
    "    def return_car_details(self):\n",
    "        return self.name_of_vehicle,self.max_speed,self.average_of_vehicle\n",
    "\n",
    "    \n",
    "Ferrari=vehicle(\"laFerrari\",300,5)\n",
    "Ferrari.return_car_details()"
   ]
  },
  {
   "cell_type": "code",
   "execution_count": 6,
   "id": "f2314ed7-8782-48ce-9791-8a0898b67d72",
   "metadata": {},
   "outputs": [
    {
     "name": "stdout",
     "output_type": "stream",
     "text": [
      "('Lamborgini Hurracan', 2)\n"
     ]
    }
   ],
   "source": [
    "#Q2. Create a child class car from the vehicle class created in Que 1, which will inherit the vehicle class. Create a method named \n",
    "#seating_capacity which takes capacity as an argument and returns the name of the vehicle and its seating capacity.\n",
    "\n",
    "class vehicle:\n",
    "    def __init__(self,name_of_vehicle, max_speed, average_of_vehicle):\n",
    "        self.name_of_vehicle=name_of_vehicle\n",
    "        self.max_speed=max_speed\n",
    "        self.average_of_vehicle=average_of_vehicle\n",
    "        \n",
    "    def seating_capacity(self,capacity):\n",
    "        return self.name_of_vehicle,capacity\n",
    "\n",
    "class car(vehicle):\n",
    "    def seating_capacity(self, capacity=2):\n",
    "        return super().seating_capacity(capacity=2)\n",
    "\n",
    "    \n",
    "car1=car(\"Lamborgini Hurracan\",300,9)\n",
    "print(car1.seating_capacity())\n"
   ]
  },
  {
   "cell_type": "code",
   "execution_count": 12,
   "id": "14e50964-f779-44da-85c2-b14294afe06c",
   "metadata": {},
   "outputs": [
    {
     "name": "stdout",
     "output_type": "stream",
     "text": [
      "In Class2\n"
     ]
    }
   ],
   "source": [
    "#Q3. What is multiple inheritance? Write a python code to demonstrate multiple inheritance.\n",
    "\n",
    "\"\"\"\n",
    "When a class is derived from more than one base class it is called multiple Inheritance. \n",
    "The derived class inherits all the features of the base case.\n",
    "\"\"\"\n",
    "\n",
    "class Class1:\n",
    "    def m1(self):\n",
    "        print(\"In Class1\")\n",
    "       \n",
    "class Class2(Class1):\n",
    "    def m2(self):\n",
    "        print(\"In Class2\")\n",
    " \n",
    "class Class3(Class1):\n",
    "    def m3(self):\n",
    "        print(\"In Class3\") \n",
    "        \n",
    "class Class4(Class2, Class3):\n",
    "    pass  \n",
    "     \n",
    "obj = Class4()\n",
    "obj.m2()"
   ]
  },
  {
   "cell_type": "code",
   "execution_count": 20,
   "id": "72db3862-62dc-499a-a4dd-ed7a0a0aea43",
   "metadata": {},
   "outputs": [
    {
     "name": "stdout",
     "output_type": "stream",
     "text": [
      "setter method called\n",
      "getter method called\n",
      "19\n"
     ]
    }
   ],
   "source": [
    "#Q4. What are getter and setter in python? Create a class and create a getter and a setter method in this class.\n",
    "\"\"\"\n",
    "Getter: A method that allows you to access an attribute in a given class\n",
    "Setter: A method that allows you to set or mutate the value of an attribute in a class\n",
    "\"\"\"\n",
    "class get_set:\n",
    "     def __init__(self):\n",
    "          self._age = 0\n",
    "     @property\n",
    "     def age(self):\n",
    "         print(\"getter method called\")\n",
    "         return self._age\n",
    "       \n",
    "     @age.setter\n",
    "     def age(self, a):\n",
    "         if(a < 18):\n",
    "            raise ValueError(\"Sorry you are underage\")\n",
    "         print(\"setter method called\")\n",
    "         self._age = a\n",
    "  \n",
    "mark = get_set()\n",
    "  \n",
    "mark.age = 19\n",
    "  \n",
    "print(mark.age)\n"
   ]
  },
  {
   "cell_type": "code",
   "execution_count": 22,
   "id": "c9a92b35-4406-4563-b515-eadd60b86c0d",
   "metadata": {},
   "outputs": [
    {
     "name": "stdout",
     "output_type": "stream",
     "text": [
      "Inside Parent\n",
      "Inside Child\n"
     ]
    }
   ],
   "source": [
    "#Q5.What is method overriding in python? Write a python code to demonstrate method overriding.\n",
    "\n",
    "\"\"\"\n",
    "Method overriding is an ability of any object-oriented programming language that allows a subclass or child class to provide \n",
    "a specific implementation of a method that is already provided by one of its super-classes or parent classes.\n",
    "\"\"\"\n",
    "class Parent():\n",
    "      \n",
    "    def __init__(self):\n",
    "        self.value = \"Inside Parent\"\n",
    "\n",
    "    def show_p(self):\n",
    "        print(self.value)\n",
    "\n",
    "class Child(Parent):\n",
    "\n",
    "    def __init__(self):\n",
    "        self.value = \"Inside Child\"\n",
    "\n",
    "    def show_c(self):\n",
    "        print(self.value)\n",
    "          \n",
    "          \n",
    "obj1 = Parent()\n",
    "obj2 = Child()\n",
    "  \n",
    "obj1.show_p()\n",
    "obj2.show_c()"
   ]
  },
  {
   "cell_type": "code",
   "execution_count": null,
   "id": "03123701-b55e-432b-823d-36df79baf1bd",
   "metadata": {},
   "outputs": [],
   "source": []
  }
 ],
 "metadata": {
  "kernelspec": {
   "display_name": "Python 3 (ipykernel)",
   "language": "python",
   "name": "python3"
  },
  "language_info": {
   "codemirror_mode": {
    "name": "ipython",
    "version": 3
   },
   "file_extension": ".py",
   "mimetype": "text/x-python",
   "name": "python",
   "nbconvert_exporter": "python",
   "pygments_lexer": "ipython3",
   "version": "3.10.8"
  }
 },
 "nbformat": 4,
 "nbformat_minor": 5
}
