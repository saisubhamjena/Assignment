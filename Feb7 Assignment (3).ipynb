{
 "cells": [
  {
   "cell_type": "code",
   "execution_count": 8,
   "id": "c1ae0707-6198-49ff-87d0-5a983ed114d3",
   "metadata": {},
   "outputs": [
    {
     "name": "stdout",
     "output_type": "stream",
     "text": [
      "Valid Password\n"
     ]
    }
   ],
   "source": [
    "\"\"\"Q1. You are writing code for a company. The requirement of the company is that you create a python\n",
    "function that will check whether the password entered by the user is correct or not. The function should\n",
    "take the password as input and return the string “Valid Password” if the entered password follows the\n",
    "below-given password guidelines else it should return “Invalid Password”.\n",
    "1. The Password should contain at least two uppercase letters and at least two lowercase letters.\n",
    "2. The Password should contain at least a number and three special characters.\n",
    "3. The length of the password should be 10 characters long.\"\"\"\n",
    "\n",
    "p=\"QWEabcdef12#$%\"\n",
    "upper=0\n",
    "lower=0\n",
    "num=0\n",
    "special=0\n",
    "\n",
    "if len(p)>=10 :\n",
    "    for i in p:\n",
    "        if i.isupper()==True:\n",
    "            upper=upper+1\n",
    "        if i.islower()==True:\n",
    "            lower+=1\n",
    "        if i.isalnum()==True:\n",
    "            num+=1\n",
    "        if i.isalnum()==False:\n",
    "            special+=1\n",
    "    if upper>=2 and lower >=2 and num>=1 and special>=3:        \n",
    "        print(\"Valid Password\")\n",
    "        \n",
    "else:\n",
    "    print(\"Invalid Password\")\n"
   ]
  },
  {
   "cell_type": "code",
   "execution_count": 22,
   "id": "fa6a5e14-ce7a-4d2b-84b5-641b38bb2058",
   "metadata": {},
   "outputs": [],
   "source": [
    "\"\"\"Q2. Solve the below-given questions using at least one of the following: \n",
    "1. Lambda function\n",
    "2. Filter function\n",
    "3. Map function\n",
    "4. List Comprehensio\"\"\""
   ]
  },
  {
   "cell_type": "code",
   "execution_count": 14,
   "id": "38bb57fc-9a3b-44e2-912b-41fccbf31ecf",
   "metadata": {},
   "outputs": [
    {
     "name": "stdout",
     "output_type": "stream",
     "text": [
      "True\n"
     ]
    }
   ],
   "source": [
    "#Q. Check if the string starts with a particular letter\n",
    "\n",
    "starts_with = lambda x: True if x.startswith('P') else False\n",
    "print(starts_with(\"Pwskills\"))"
   ]
  },
  {
   "cell_type": "code",
   "execution_count": 17,
   "id": "009b23c2-3e13-4d7d-a59b-209c32e23d2e",
   "metadata": {},
   "outputs": [
    {
     "name": "stdout",
     "output_type": "stream",
     "text": [
      "True\n"
     ]
    }
   ],
   "source": [
    "#Q Check if the string is numeric\n",
    "\n",
    "if_numeric = lambda x: True if x.isnumeric() else False\n",
    "print(if_numeric(\"123\"))"
   ]
  },
  {
   "cell_type": "code",
   "execution_count": 6,
   "id": "dcdb2e4b-1a47-4650-96f6-0f0e4f4d8deb",
   "metadata": {},
   "outputs": [
    {
     "name": "stdout",
     "output_type": "stream",
     "text": [
      "[('orange', 80), ('mango', 99), ('grapes', 1000)]\n"
     ]
    }
   ],
   "source": [
    "#Q Sort a list of tuples having fruit names and their quantity. \n",
    "\n",
    "t=[(\"mango\",99),(\"orange\",80), (\"grapes\", 1000)]\n",
    "\n",
    "t.sort(key=lambda x:x[1])\n",
    "print(t)"
   ]
  },
  {
   "cell_type": "code",
   "execution_count": 24,
   "id": "4ffc92fa-2496-4239-ac2c-88320e81a6fa",
   "metadata": {},
   "outputs": [
    {
     "data": {
      "text/plain": [
       "[1, 4, 9, 16, 25, 36, 49, 64, 81, 100]"
      ]
     },
     "execution_count": 24,
     "metadata": {},
     "output_type": "execute_result"
    }
   ],
   "source": [
    "#Q Find the squares of numbers from 1 to 10\n",
    "\n",
    "[x**2 for x in range(1,11)]"
   ]
  },
  {
   "cell_type": "code",
   "execution_count": 25,
   "id": "ba5ab0fb-067d-480a-b812-8ed3162bfe25",
   "metadata": {},
   "outputs": [
    {
     "data": {
      "text/plain": [
       "[1, 8, 27, 64, 125, 216, 343, 512, 729, 1000]"
      ]
     },
     "execution_count": 25,
     "metadata": {},
     "output_type": "execute_result"
    }
   ],
   "source": [
    "#Q Find the cube root of numbers from 1 to 10\n",
    "\n",
    "[x**3 for x in range(1,11)]"
   ]
  },
  {
   "cell_type": "code",
   "execution_count": 26,
   "id": "2b67a702-26d8-4b57-9f43-6f604f99d6be",
   "metadata": {},
   "outputs": [
    {
     "name": "stdout",
     "output_type": "stream",
     "text": [
      "Even\n"
     ]
    }
   ],
   "source": [
    "#Q If the given number is even\n",
    "\n",
    "is_even=lambda x:\"Even\" if x%2==0 else \"Odd\"\n",
    "print(is_even(4))"
   ]
  },
  {
   "cell_type": "code",
   "execution_count": 27,
   "id": "7fef4b58-9073-4f1f-9694-f4f71eb15f48",
   "metadata": {},
   "outputs": [
    {
     "data": {
      "text/plain": [
       "[1, 3, 5, 7, 9]"
      ]
     },
     "execution_count": 27,
     "metadata": {},
     "output_type": "execute_result"
    }
   ],
   "source": [
    "#Q Filter odd numbers from the given list. \n",
    "\n",
    "l=[1,2,3,4,5,6,7,8,9,10]\n",
    "list(filter(lambda x:x%2!=0,l))"
   ]
  },
  {
   "cell_type": "code",
   "execution_count": 42,
   "id": "6d672d18-c824-4f90-913f-1838afecaea0",
   "metadata": {},
   "outputs": [
    {
     "name": "stdout",
     "output_type": "stream",
     "text": [
      "positive  [1, 2, 3, 4, 5, 6, 0]\n",
      "Negative  [-1, -2, -3, -4, -5]\n"
     ]
    }
   ],
   "source": [
    "#Q Sort a list of integers into positive and negative integers lists.\n",
    "\n",
    "l=[1,2,3,4,5,6,-1,-2,-3,-4,-5,0]\n",
    "l_pos=list(filter(lambda x:x>=0,l))\n",
    "l_neg=list(filter(lambda y:y<0,l))\n",
    "\n",
    "print(\"positive \",l_pos)\n",
    "print(\"Negative \",l_neg)"
   ]
  },
  {
   "cell_type": "code",
   "execution_count": null,
   "id": "c500d6d7-90fc-4b0d-945d-aa56f2c54107",
   "metadata": {},
   "outputs": [],
   "source": []
  },
  {
   "cell_type": "code",
   "execution_count": null,
   "id": "d1065c61-9d21-4757-ac90-80c84be5822b",
   "metadata": {},
   "outputs": [],
   "source": []
  }
 ],
 "metadata": {
  "kernelspec": {
   "display_name": "Python 3 (ipykernel)",
   "language": "python",
   "name": "python3"
  },
  "language_info": {
   "codemirror_mode": {
    "name": "ipython",
    "version": 3
   },
   "file_extension": ".py",
   "mimetype": "text/x-python",
   "name": "python",
   "nbconvert_exporter": "python",
   "pygments_lexer": "ipython3",
   "version": "3.10.8"
  }
 },
 "nbformat": 4,
 "nbformat_minor": 5
}
