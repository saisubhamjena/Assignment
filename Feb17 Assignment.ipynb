{
 "cells": [
  {
   "cell_type": "code",
   "execution_count": 3,
   "id": "5466897a-c300-4510-bce2-7d7089110705",
   "metadata": {},
   "outputs": [],
   "source": [
    "#Q1. What is MongoDB? Explain non-relational databases in short. In which scenarios it is preferred to use MongoDB over SQL databases?\n",
    "\"\"\"\n",
    "MongoDB is a document database with the scalability and flexibility that you want with the querying and indexing that you need.\n",
    "\n",
    "A non-relational database is a database that does not use the tabular schema of rows and columns found in most traditional database systems.\n",
    "Instead, non-relational databases use a storage model that is optimized for the specific requirements of the type of data being stored.\n",
    "\n",
    "This flexible approach to storing data makes it particularly suitable for developers who may not be database experts, yet want to use a \n",
    "database to support the development of their applications.In this senarios it is prefered to use MongoDB over SQL.\n",
    "\"\"\""
   ]
  },
  {
   "cell_type": "code",
   "execution_count": null,
   "id": "f13ab09b-7447-4168-b422-435dd0aa0974",
   "metadata": {},
   "outputs": [],
   "source": [
    "#Q2. State and Explain the features of MongoDB.\n",
    "\"\"\"\n",
    "1.Schema-less Database: A Schema-less database means one collection can hold different types of documents in it. Or in other words,in the MongoDB \n",
    "  database, a single collection can hold multiple documents and these documents may consist of the different numbers of fields, content, and size.\n",
    "  \n",
    "2.Document Oriented: In MongoDB, all the data stored in the documents in key value pair, instead of tables like in RDBMS\n",
    "\n",
    "3.Indexing: In MongoDB database, every field in the documents is indexed with primary and secondary indices this makes easier and takes less time \n",
    "  to get or search data from the pool of the data.\n",
    "  \n",
    "4.Scalability: MongoDB provides horizontal scalability with the help of sharding. \n",
    "\n",
    "5.Replication: MongoDB provides high availability and redundancy with the help of replication, it creates multiple copies of the data and sends\n",
    "  these copies to a different server so that if one server fails, then the data is retrieved from another server.\n",
    "\"\"\""
   ]
  },
  {
   "cell_type": "code",
   "execution_count": 7,
   "id": "7f421a58-27cf-474f-ba95-e85b1888d258",
   "metadata": {},
   "outputs": [],
   "source": [
    "#Q3. Write a code to connect MongoDB to Python. Also, create a database and a collection in MongoDB.\n",
    "\n",
    "\"\"\"Code to connect mongoDb to python\"\"\"\n",
    "\n",
    "import pymongo\n",
    "client=pymongo.MongoClient(\"mongodb+srv://saisubhamjena:<password>@cluster0.kotoaes.mongodb.net/?retryWrites=true&w=majority\")\n",
    "db=client.test\n",
    "\n",
    "\n",
    "\"\"\"database and a collection in mongodb\"\"\"\n",
    "db=client['My_data']\n",
    "data={\"Name\":\"Virat Kohli\",\n",
    "      \"Work\":\"Cricketer\",\n",
    "      \"Role\":\"Batsman\"\n",
    "     }\n",
    "record=db[\"My_record\"]"
   ]
  },
  {
   "cell_type": "code",
   "execution_count": 13,
   "id": "8b05b1dc-796c-47a3-86e2-b37a5f225531",
   "metadata": {},
   "outputs": [],
   "source": [
    "#Q4. Using the database and the collection created in question number 3, write a code to insert one record, and insert many records.\n",
    "#    Use the find() and find_one() methods to print the inserted record.\n",
    "\n",
    "\"\"\"Insert one record\"\"\"\n",
    "record.insert_one(data)\n",
    "\n",
    "\"\"\"Insert many records\"\"\"\n",
    "mylist = [\n",
    "  { \"_id\": 1, \"name\": \"Vishwash\", \"Roll No\": \"1001\", \"Branch\":\"CSE\"},\n",
    "  { \"_id\": 2, \"name\": \"Vishesh\", \"Roll No\": \"1002\", \"Branch\":\"IT\"},\n",
    "  { \"_id\": 3, \"name\": \"Shivam\", \"Roll No\": \"1003\", \"Branch\":\"ME\"},\n",
    "  { \"_id\": 4, \"name\": \"Yash\", \"Roll No\": \"1004\", \"Branch\":\"ECE\"},\n",
    "]\n",
    "\n",
    "record.insert_many(mylist)\n",
    "\n",
    "\"\"\"find() and find_one() methods to print the inserted records\"\"\"\n",
    "\n",
    "for i in record.find({\"_id\": 3, \"name\": \"Shivam\"}):\n",
    "    print(i)\n",
    "    \n",
    "x=record.find_one({\"Work\":\"Cricketer\"})\n",
    "print(x)"
   ]
  },
  {
   "cell_type": "code",
   "execution_count": null,
   "id": "472d7cd0-575b-4e6c-a7da-68a76c25daa7",
   "metadata": {},
   "outputs": [],
   "source": [
    "#Q5. Explain how you can use the find() method to query the MongoDB database. Write a simple code to demonstrate this.\n",
    "\"\"\"\n",
    "find() method is used to select documents in a collection and return a cursor to the selected documents. Cursor means a pointer\n",
    "that points to a document, when we use find() method it returns a pointer on the selected documents and returns one by one. \n",
    "\n",
    "Syntax: find(query,projection)\n",
    "\n",
    "There are total 6 find methords:\n",
    "find()\n",
    "findAndModify()\n",
    "findOne()\n",
    "findOneAndDelete()\n",
    "findOneAndReplace()\n",
    "findOneAndUpdate()\n",
    "\"\"\"\n",
    "import pymongo\n",
    "client=pymongo.MongoClient(\"mongodb+srv://saisubhamjena:<password>@cluster0.kotoaes.mongodb.net/?retryWrites=true&w=majority\")\n",
    "db=client.test\n",
    "\n",
    "db=client['My_data']\n",
    "record=db[\"My_record\"]\n",
    "\n",
    "data={ \"_id\": \"apples\", \"qty\": 5 }\n",
    "    { \"_id\": \"bananas\", \"qty\": 7 }\n",
    "    { \"_id\": \"oranges\", \"qty\": { \"in stock\": 8, \"ordered\": 12 } }\n",
    "    { \"_id\": \"avocados\", \"qty\": \"fourteen\" }\n",
    "    \n",
    "db.collection.find( { qty: { $gt: 4 } } )"
   ]
  },
  {
   "cell_type": "code",
   "execution_count": null,
   "id": "99deeafe-9a95-46fe-82bc-c8868fd4bfb2",
   "metadata": {},
   "outputs": [],
   "source": [
    "#Q6. Explain the sort() method. Give an example to demonstrate sorting in MongoDB.\n",
    "\"\"\"\n",
    "The sort() method specifies the order in which the query returns the matching documents from the given collection.You must apply this method \n",
    "to the cursor before retrieving any documents from the database. It takes a document as a parameter that contains a field: value pair that \n",
    "defines the sort order of the result set. The value is 1 or -1 specify an ascending or descending sort respectively.\n",
    "\"\"\"\n",
    "import pymongo\n",
    "client=pymongo.MongoClient(\"mongodb+srv://saisubhamjena:<password>@cluster0.kotoaes.mongodb.net/?retryWrites=true&w=majority\")\n",
    "db=client.test\n",
    "\n",
    "db=client['My_data']\n",
    "record=db[\"My_record\"]\n",
    "\n",
    "data={ \"_id\" : ObjectId(598354, \"topic\":\"Cyber Security\"}\n",
    "    { \"_id\" : ObjectId(556554), \" topic \":\"Digital Privacy\"}\n",
    "    { \"_id\" : ObjectId(598754), \" topic \":\"Application Security Engineering\"}\n",
    "\n",
    "db.techSubjects.find().sort({\"topic\":1})"
   ]
  },
  {
   "cell_type": "code",
   "execution_count": 15,
   "id": "28cc63ff-d733-4f4b-9b38-22b557b8fb61",
   "metadata": {},
   "outputs": [],
   "source": [
    "#Q7. Explain why delete_one(), delete_many(), and drop() is used.\n",
    "\"\"\"\n",
    "delete_one(): It deletes the first document that matches the filter.\n",
    "    Syntax: collection.delete_one(filter, collation=None, hint=None, session=None)\n",
    "    \n",
    "Delete_many():It is used when one needs to delete more than one document. \n",
    "    Syntax: collection.delete_many(filter, collation=None, hint=None, session=None)\n",
    "    \n",
    "drop():It is used to drop a collection from a database. It completely removes a collection from the database and does not leave any indexes\n",
    "associated with the dropped collections.\n",
    "    Syntax: collection.drop( { writeConcern: <document> } )\n",
    "\"\"\""
   ]
  },
  {
   "cell_type": "code",
   "execution_count": null,
   "id": "4f2bbd5b-2942-4267-9611-5bea677641ae",
   "metadata": {},
   "outputs": [],
   "source": []
  }
 ],
 "metadata": {
  "kernelspec": {
   "display_name": "Python 3 (ipykernel)",
   "language": "python",
   "name": "python3"
  },
  "language_info": {
   "codemirror_mode": {
    "name": "ipython",
    "version": 3
   },
   "file_extension": ".py",
   "mimetype": "text/x-python",
   "name": "python",
   "nbconvert_exporter": "python",
   "pygments_lexer": "ipython3",
   "version": "3.10.8"
  }
 },
 "nbformat": 4,
 "nbformat_minor": 5
}
