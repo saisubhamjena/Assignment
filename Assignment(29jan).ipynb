{
 "cells": [
  {
   "cell_type": "code",
   "execution_count": 3,
   "id": "a19c6b6c-ef2f-4f9f-894c-aba4eae75169",
   "metadata": {},
   "outputs": [],
   "source": [
    "#1. Who developed Python Programming Language?\n",
    "#Ans: Guido van Rossum    "
   ]
  },
  {
   "cell_type": "code",
   "execution_count": null,
   "id": "2b583147-53f8-4abf-a300-69b85255b628",
   "metadata": {},
   "outputs": [],
   "source": [
    "#2. Which type of Programming does Python support?\n",
    "#Ans Object-oriented programming and structured programming \n"
   ]
  },
  {
   "cell_type": "code",
   "execution_count": 4,
   "id": "fdc96a99-ceb5-499b-9bdb-a63b560ba02c",
   "metadata": {},
   "outputs": [],
   "source": [
    "#3 Is Python cose sensitive when dealing with identifiers?\n",
    "#Ans: Yes"
   ]
  },
  {
   "cell_type": "code",
   "execution_count": 5,
   "id": "4191143b-b073-4602-98e5-a7bab69a0f4b",
   "metadata": {},
   "outputs": [],
   "source": [
    "#4 What is the correct extension of the Python file?\n",
    "#Ans: .py"
   ]
  },
  {
   "cell_type": "code",
   "execution_count": 6,
   "id": "fe16de2e-7585-4f7a-be71-e40388fd576f",
   "metadata": {},
   "outputs": [],
   "source": [
    "#5 Is Python code compiled or interpreted?\n",
    "#Ans: Interpreted"
   ]
  },
  {
   "cell_type": "code",
   "execution_count": 7,
   "id": "fe9bccd2-eb98-4e0e-a2f0-357ba12adab2",
   "metadata": {},
   "outputs": [],
   "source": [
    "#6 Name afew blocks of code used to define in Python language?\n",
    "#Ans: Indentation is used to define a block of code in python"
   ]
  },
  {
   "cell_type": "code",
   "execution_count": 8,
   "id": "a3886902-9368-497e-999f-c41d060e57da",
   "metadata": {},
   "outputs": [],
   "source": [
    "#7 State a character used to give single-line comments in Python?\n",
    "#Ans: #"
   ]
  },
  {
   "cell_type": "code",
   "execution_count": 9,
   "id": "1f220d1d-d0d3-441e-bda4-f08b8d5b998d",
   "metadata": {},
   "outputs": [],
   "source": [
    "#8 Mention functions which can help us to find the version of python that we are currently working on?\n",
    "#Ans: sys. version "
   ]
  },
  {
   "cell_type": "code",
   "execution_count": 10,
   "id": "f5827acc-5d9a-4b6f-9d09-f617be49ef80",
   "metadata": {},
   "outputs": [],
   "source": [
    "#9 Python supports the creation of anonymous functions at runtime, using a construct called\n",
    "#Ans: Lambda"
   ]
  },
  {
   "cell_type": "code",
   "execution_count": 11,
   "id": "39042577-60dc-4493-b5ce-4c8745b8f929",
   "metadata": {},
   "outputs": [],
   "source": [
    "#10 What does pip stand for python?\n",
    "#Ans: preferred installer program"
   ]
  },
  {
   "cell_type": "code",
   "execution_count": 12,
   "id": "649e8ac3-7430-4bf1-9d5f-9efaf84e808f",
   "metadata": {},
   "outputs": [],
   "source": [
    "#11 Mention a few built-in functions in python?\n",
    "#Ans: print(),type(),input(),max()"
   ]
  },
  {
   "cell_type": "code",
   "execution_count": 13,
   "id": "1850a7e0-36c0-47bb-ab5a-332c784e8216",
   "metadata": {},
   "outputs": [],
   "source": [
    "#12 What is the maximum possible length of on identifier in Python?\n",
    "#Ans: 79 characters"
   ]
  },
  {
   "cell_type": "code",
   "execution_count": 15,
   "id": "7963c96c-400d-44f3-9d41-4fc02ea63cd1",
   "metadata": {},
   "outputs": [],
   "source": [
    "#13 What are the benefits of using Python?\n",
    "#Ans: \n",
    "        \"\"\"\n",
    "        Presence of third-party modules \n",
    "        Extensive support libraries(NumPy for numerical calculations, Pandas for data analytics, etc.) \n",
    "        Open source and large active community base \n",
    "        Versatile, Easy to read, learn and write\n",
    "        Dynamically typed language(No need to mention data type based on the value assigned, it takes data type) \n",
    "        \"\"\""
   ]
  },
  {
   "cell_type": "code",
   "execution_count": null,
   "id": "7288be28-de75-4b4b-8eb3-76a4da067be0",
   "metadata": {},
   "outputs": [],
   "source": [
    "#14 How is memory managed in Python?\n",
    "#Ans: Memory management in Python involves a private heap containing all Python objects and data structures. The management of this private heap is ensured internally by the Python memory manager."
   ]
  },
  {
   "cell_type": "code",
   "execution_count": 2,
   "id": "368c1f6d-cb82-4cca-a92f-1f222003a017",
   "metadata": {},
   "outputs": [],
   "source": [
    "#15 How te install Python on Windows and set path variables?\n",
    "#Ans:\n",
    "    \"\"\"\n",
    "    Right-clicking This PC and going to Properties.\n",
    "    Clicking on the Advanced system settings in the menu on the left.\n",
    "    Clicking on the Environment Variables button on the bottom right.\n",
    "    In the System variables section, selecting the Path variable and clicking on Edit. The next screen will show all the directories that are currently a part of the PATH variable.\n",
    "    Clicking on New and entering Python’s install directory.\n",
    "    \"\"\""
   ]
  },
  {
   "cell_type": "code",
   "execution_count": null,
   "id": "2986b6b5-919a-44a7-9859-c0127b89bb82",
   "metadata": {},
   "outputs": [],
   "source": [
    "#16 Is indentation required in python?\n",
    "#Ans: Yes"
   ]
  }
 ],
 "metadata": {
  "kernelspec": {
   "display_name": "Python 3 (ipykernel)",
   "language": "python",
   "name": "python3"
  },
  "language_info": {
   "codemirror_mode": {
    "name": "ipython",
    "version": 3
   },
   "file_extension": ".py",
   "mimetype": "text/x-python",
   "name": "python",
   "nbconvert_exporter": "python",
   "pygments_lexer": "ipython3",
   "version": "3.10.8"
  }
 },
 "nbformat": 4,
 "nbformat_minor": 5
}
