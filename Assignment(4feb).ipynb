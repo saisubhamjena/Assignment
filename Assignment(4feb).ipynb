{
 "cells": [
  {
   "cell_type": "code",
   "execution_count": 45,
   "id": "e9517b14-2e5d-4c85-b306-1111795c60be",
   "metadata": {},
   "outputs": [
    {
     "name": "stdout",
     "output_type": "stream",
     "text": [
      "[('Virat Kohli', 24936), ('Jack Kallis', 25534), ('Ricky Ponting', 27483), ('Sachin Tendulkar', 34357)]\n"
     ]
    }
   ],
   "source": [
    "#Q1. Create a python program to sort the given list of tuples based on integer value using a lambda function. \n",
    "\n",
    "l1=[('Sachin Tendulkar', 34357), ('Ricky Ponting', 27483), ('Jack Kallis', 25534), ('Virat Kohli', 24936)]\n",
    "\n",
    "l1.sort(key=lambda x:x[1])\n",
    "print(l1)"
   ]
  },
  {
   "cell_type": "code",
   "execution_count": 46,
   "id": "aa75a8be-064f-40e4-99d0-8d32c257e498",
   "metadata": {},
   "outputs": [
    {
     "data": {
      "text/plain": [
       "[1, 4, 9, 16, 25, 36, 49, 64, 81, 100]"
      ]
     },
     "execution_count": 46,
     "metadata": {},
     "output_type": "execute_result"
    }
   ],
   "source": [
    "#Q2. Write a Python Program to find the squares of all the numbers in the given list of integers using lambda and map functions.\n",
    "\n",
    "l2=[1, 2, 3, 4, 5, 6, 7, 8, 9, 10]\n",
    "list(map(lambda x:x**2,l2))"
   ]
  },
  {
   "cell_type": "code",
   "execution_count": 47,
   "id": "d0f542c3-39f9-404a-9546-166e36e0afff",
   "metadata": {},
   "outputs": [
    {
     "data": {
      "text/plain": [
       "('1', '2', '3', '4', '5', '6', '7', '8', '9', '10')"
      ]
     },
     "execution_count": 47,
     "metadata": {},
     "output_type": "execute_result"
    }
   ],
   "source": [
    "#Q3. Write a python program to convert the given list of integers into a tuple of strings. Use map and lambda functions.\n",
    "\n",
    "l3=[1, 2, 3, 4, 5, 6, 7, 8, 9, 10]\n",
    "\n",
    "tuple(map(lambda x:str(x),l3))"
   ]
  },
  {
   "cell_type": "code",
   "execution_count": 48,
   "id": "df5e9c63-71ed-4503-9ef1-6832a3e6f89a",
   "metadata": {},
   "outputs": [
    {
     "data": {
      "text/plain": [
       "15511210043330985984000000"
      ]
     },
     "execution_count": 48,
     "metadata": {},
     "output_type": "execute_result"
    }
   ],
   "source": [
    "#Q4. Write a python program using reduce function to compute the product of a list containing numbers from 1 to 25.\n",
    "\n",
    "from functools import reduce\n",
    "\n",
    "reduce(lambda x,y:x*y,range(1,26))"
   ]
  },
  {
   "cell_type": "code",
   "execution_count": 49,
   "id": "f6aecb6a-9e91-4ea2-a77c-2545474812bf",
   "metadata": {},
   "outputs": [
    {
     "data": {
      "text/plain": [
       "[6, 60, 90, 120]"
      ]
     },
     "execution_count": 49,
     "metadata": {},
     "output_type": "execute_result"
    }
   ],
   "source": [
    "#Q5. Write a python program to filter the numbers in a given list that are divisible by 2 and 3 using the filter function.\n",
    "\n",
    "l5=[2, 3, 6, 9, 27, 60, 90, 120, 55, 46]\n",
    "\n",
    "list(filter(lambda x:x%2==0 and x%3==0 ,l5))"
   ]
  },
  {
   "cell_type": "code",
   "execution_count": 50,
   "id": "150cd7b4-3503-499f-b0b8-1b1631c15915",
   "metadata": {},
   "outputs": [
    {
     "data": {
      "text/plain": [
       "['php', 'aba', 'radar', 'level']"
      ]
     },
     "execution_count": 50,
     "metadata": {},
     "output_type": "execute_result"
    }
   ],
   "source": [
    "#Q6. Write a python program to find palindromes in the given list of strings using lambda and filter function.\n",
    "\n",
    "l6=['python', 'php', 'aba', 'radar', 'level']\n",
    "\n",
    "list(filter(lambda x:x==\"\".join(reversed(x)),l6))"
   ]
  },
  {
   "cell_type": "code",
   "execution_count": null,
   "id": "0ae7594d-fcb7-4d38-9e32-addd463137f0",
   "metadata": {},
   "outputs": [],
   "source": []
  },
  {
   "cell_type": "code",
   "execution_count": null,
   "id": "1f9fa22e-d20b-4d04-8590-915abe9f271f",
   "metadata": {},
   "outputs": [],
   "source": []
  }
 ],
 "metadata": {
  "kernelspec": {
   "display_name": "Python 3 (ipykernel)",
   "language": "python",
   "name": "python3"
  },
  "language_info": {
   "codemirror_mode": {
    "name": "ipython",
    "version": 3
   },
   "file_extension": ".py",
   "mimetype": "text/x-python",
   "name": "python",
   "nbconvert_exporter": "python",
   "pygments_lexer": "ipython3",
   "version": "3.10.8"
  }
 },
 "nbformat": 4,
 "nbformat_minor": 5
}
