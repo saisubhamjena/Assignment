{
 "cells": [
  {
   "cell_type": "code",
   "execution_count": 2,
   "id": "b744abb0-3801-4b70-bad0-63b40f0d9aed",
   "metadata": {},
   "outputs": [],
   "source": [
    "#Q1. What is an Exception in python? Write the difference between Exceptions and Syntax errors.\n",
    "\"\"\"\n",
    "An exception is an event, which occurs during the execution of a program that disrupts the normal flow of the program's instructions\n",
    "\n",
    "The syntax error implies a problem that mostly arises due to the shortage of system resources. \n",
    "On the other hand, the exceptions occur during runtime and compile time.\n",
    "\"\"\"\n"
   ]
  },
  {
   "cell_type": "code",
   "execution_count": null,
   "id": "3e7825f3-c67d-41b7-bf96-8fc304a88654",
   "metadata": {},
   "outputs": [],
   "source": [
    "#Q2. What happens when an exception is not handled? Explain with an example.\n",
    "\n",
    "\"\"\"\n",
    "If a exception is not handled then it shows error i.e. the runtime system will abort the program (i.e. crash) and an exception message will\n",
    "print to the console.\"\"\"\n",
    "try:\n",
    "    numerator = 10\n",
    "    denominator = 0\n",
    "\n",
    "    result = numerator/denominator\n",
    "\n",
    "    print(result)\n",
    "except:\n",
    "    print(\"Error: Denominator cannot be 0.\")\n",
    "\"\"\"\n",
    "In the example, we are trying to divide a number by 0. Here, this code generates an exception.To handle the exception, we have put the code,\n",
    "result = numerator/denominator inside the try block. Now when an exception occurs, the rest of the code inside the try block is skipped.\n",
    "The except block catches the exception and statements inside the except block are executed.\"\"\"\n",
    "\n"
   ]
  },
  {
   "cell_type": "code",
   "execution_count": 6,
   "id": "d2166420-f9d1-4b1e-9ace-2a38a2c6c4a2",
   "metadata": {},
   "outputs": [],
   "source": [
    "#Q3. Which Python statements are used to catch and handle exceptions? Explain with an example.\n",
    "\"\"\"\n",
    "The try and except block in Python is used to catch and handle exceptions.\"\"\"\n",
    "try:\n",
    "    num = int(input(\"Enter a number: \"))\n",
    "    assert num % 2 == 0\n",
    "except:\n",
    "    print(\"Not an even number!\")\n",
    "else:\n",
    "    reciprocal = 1/num\n",
    "    print(reciprocal)\n",
    "    \n",
    "\"\"\"\n",
    "If we pass an even number, the reciprocal is computed and displayed.\n",
    "However, if we pass 0, we get ZeroDivisionError as the code block inside else is not handled by preceding except.\n",
    "\"\"\""
   ]
  },
  {
   "cell_type": "code",
   "execution_count": null,
   "id": "2e7e1a35-90bd-46fe-84c4-d1fe49413c84",
   "metadata": {},
   "outputs": [],
   "source": [
    "#Q4. Explain with an example:\n",
    "\n",
    "#try and else\n",
    "\"\"\"\n",
    "The try block lets you test a block of code for errors. \n",
    "The else block will only be exicuted if there is no exceptions in try block.\n",
    "\"\"\"\n",
    "try:\n",
    "    a=3\n",
    "    b=0\n",
    "    c=a/b\n",
    "    print(c)\n",
    "except:\n",
    "    print(\"Error in try block\")\n",
    "else:\n",
    "    print(\"No error in try block\")\n",
    "    \n",
    "\n",
    "#finally\n",
    "\"\"\"\n",
    "The finally block will be executed no matter if the try block raises an error or not.\"\"\"\n",
    "try:\n",
    "    k = 5//1\n",
    "    print(k)   \n",
    "except ZeroDivisionError:   \n",
    "    print(\"Can't divide by zero\")\n",
    "      \n",
    "finally:\n",
    "    print('This is always executed') \n",
    "\n",
    "\n",
    "#raise \n",
    "\"\"\"\n",
    "raise Keyword is used to raise exceptions or errors. The raise keyword raises an error and stops the control flow of the program.\n",
    "It is used to bring up the current exception in an exception handler so that it can be handled further up the call stack.\"\"\"\n",
    "a = 5\n",
    "if a % 2 != 0:\n",
    "    raise Exception(\"The number shouldn't be an odd integer\")"
   ]
  },
  {
   "cell_type": "code",
   "execution_count": null,
   "id": "88190129-feb9-45e0-9d5e-cd0d587a53d2",
   "metadata": {},
   "outputs": [],
   "source": [
    "#Q5. What are Custom Exceptions in python? Why do we need Custom Exceptions? Explain with an example.\n",
    "\"\"\"\n",
    "Custom Exceptions are the non build-in exception created by user.we can define custom exceptions by creating a new class that is derived from\n",
    "the built-in Exception class.\n",
    "Sometimes there are some logical mistakes in programming that are accepted by python.for example if we put age in negative it will not shoe error.\n",
    "We need to create a custom Exceptions to tackle this type of mistakes.\n",
    "\"\"\"\n",
    "class InvalidAgeException(Exception):\n",
    "    \"Raised when the input value is less than 18\"\n",
    "    pass\n",
    "number = 18\n",
    "\n",
    "try:\n",
    "    input_num = int(input(\"Enter a number: \"))\n",
    "    if input_num < number:\n",
    "        raise InvalidAgeException\n",
    "    else:\n",
    "        print(\"Eligible to Vote\")\n",
    "        \n",
    "except InvalidAgeException:\n",
    "    print(\"Exception occurred: Invalid Age\")"
   ]
  },
  {
   "cell_type": "code",
   "execution_count": 7,
   "id": "3e9cc249-0ba2-4a31-8860-0c2d1e9dd59b",
   "metadata": {},
   "outputs": [
    {
     "name": "stdin",
     "output_type": "stream",
     "text": [
      "Enter a temperature in Fahrenheit: 23\n"
     ]
    },
    {
     "name": "stdout",
     "output_type": "stream",
     "text": [
      "The 23.0 is not in a valid range (32, 212)\n"
     ]
    }
   ],
   "source": [
    "#Q6. Create a custom exception class. Use this class to handle an exception.\n",
    "\n",
    "class FahrenheitError(Exception):\n",
    "    min_f = 32\n",
    "    max_f = 212\n",
    "    def __init__(self, f, *args):\n",
    "        super().__init__(args)\n",
    "        self.f = f\n",
    "    def __str__(self):\n",
    "        return f'The {self.f} is not in a valid range {self.min_f, self.max_f}'\n",
    "def fahrenheit_to_celsius(f: float) -> float:\n",
    "    if f < FahrenheitError.min_f or f > FahrenheitError.max_f:\n",
    "        raise FahrenheitError(f)\n",
    "    return (f - 32) * 5 / 9\n",
    "if __name__ == '__main__':\n",
    "    f = input('Enter a temperature in Fahrenheit:')\n",
    "    try:\n",
    "        f = float(f)\n",
    "    except ValueError as ex:\n",
    "        print(ex)\n",
    "    else:\n",
    "        try:\n",
    "            c = fahrenheit_to_celsius(float(f))\n",
    "        except FahrenheitError as ex:\n",
    "            print(ex)\n",
    "        else:\n",
    "            print(f'{f} Fahrenheit = {c:.4f} Celsius')"
   ]
  },
  {
   "cell_type": "code",
   "execution_count": null,
   "id": "b3371a04-c178-45f4-81bc-311434a688c8",
   "metadata": {},
   "outputs": [],
   "source": []
  }
 ],
 "metadata": {
  "kernelspec": {
   "display_name": "Python 3 (ipykernel)",
   "language": "python",
   "name": "python3"
  },
  "language_info": {
   "codemirror_mode": {
    "name": "ipython",
    "version": 3
   },
   "file_extension": ".py",
   "mimetype": "text/x-python",
   "name": "python",
   "nbconvert_exporter": "python",
   "pygments_lexer": "ipython3",
   "version": "3.10.8"
  }
 },
 "nbformat": 4,
 "nbformat_minor": 5
}
