{
 "cells": [
  {
   "cell_type": "code",
   "execution_count": 4,
   "id": "b0e4fa96-8b5c-4810-a388-d4fadd150d30",
   "metadata": {},
   "outputs": [],
   "source": [
    "#1. What is multithreading in python? Why is it used? Name the module used to handle threads in python\n",
    "\"\"\"\n",
    "Multithreading allows the programmer to divide application tasks into sub-tasks and simultaneously run them in a program. \n",
    "It allows threads to communicate and share resources such as files, data, and memory to the same processor. Furthermore, it \n",
    "increases the user's responsiveness to continue running a program even if a part of the application is the length or blocked.\n",
    "Threating module is used to handle threats in python.\n",
    "\"\"\""
   ]
  },
  {
   "cell_type": "code",
   "execution_count": null,
   "id": "bb95d263-0743-45d2-b966-0e1fd960169b",
   "metadata": {},
   "outputs": [],
   "source": [
    "#2. Why threading module used? Write the use of the following functions.\n",
    "\"\"\"Python threading allows you to have different parts of your program run concurrently and can simplify your design.\"\"\"\n",
    "\n",
    "#activeCount()\n",
    "\"\"\"Returns the number of thread objects that are active.\"\"\"\n",
    "     \n",
    "#currentThread()\n",
    "\"\"\"Returns the number of thread objects in the caller's thread control.\"\"\"\n",
    "     \n",
    "#enumerate()\n",
    "\"\"\"This method adds a counter to an iterable and returns it in a form of enumerating object. This enumerated object can then be \n",
    "used directly for loops or converted into a list of tuples using the list() function.\"\"\""
   ]
  },
  {
   "cell_type": "code",
   "execution_count": null,
   "id": "979c1fff-1276-48cc-a676-167e8fcb69f0",
   "metadata": {},
   "outputs": [],
   "source": [
    "#3. Explain the following functions\n",
    "\n",
    "#run()\n",
    "\"\"\"It invokes the callable object passed to the object's constructor as the target argument, if any, with positional and keyword \n",
    "arguments taken from the args and kwargs arguments, respectively.\"\"\"\n",
    "\n",
    "#start()\n",
    "\"\"\"It is used to start a thread's activity. This method calls the run() method internally which then executes the target method. \"\"\"\n",
    "\n",
    "#join()\n",
    "\"\"\"On invoking the join() method, the calling thread gets blocked until the thread object (on which the thread is called) gets terminated.\"\"\"\n",
    "\n",
    "#isAlive()\n",
    "\"\"\"It uses a Thread object, and checks whether that thread is alive or not, ie, it is still running or not.\"\"\""
   ]
  },
  {
   "cell_type": "code",
   "execution_count": 3,
   "id": "1a77bb30-697c-46ff-b078-8b2ffbcd8f36",
   "metadata": {},
   "outputs": [
    {
     "name": "stdout",
     "output_type": "stream",
     "text": [
      " Calculate the square root of the given number\n",
      " Square is :  16\n",
      " Square is :  25\n",
      " Square is :  36\n",
      " Square is :  49\n",
      " Square is :  4\n",
      " Calculate the cube of  the given number\n",
      " Cube is :  64\n",
      " Cube is :  125\n",
      " Cube is :  216\n",
      " Cube is :  343\n",
      " Cube is :  8\n",
      " Total time taken by threads is : 3.0044009685516357\n"
     ]
    }
   ],
   "source": [
    "#4. Write a python program to create two threads. Thread one must print the list of squares and thread two must print the list of cubes.\n",
    "\n",
    "import threading # import the thread module  \n",
    "import time # import time module  \n",
    "  \n",
    "def cal_sqre(num): # define the cal_sqre function  \n",
    "    print(\" Calculate the square root of the given number\")  \n",
    "    for n in num:   \n",
    "        time.sleep(0.3) # at each iteration it waits for 0.3 time  \n",
    "        print(' Square is : ', n * n)  \n",
    "  \n",
    "def cal_cube(num): # define the cal_cube() function  \n",
    "    print(\" Calculate the cube of  the given number\")  \n",
    "    for n in num:   \n",
    "        time.sleep(0.3) # at each iteration it waits for 0.3 time  \n",
    "        print(\" Cube is : \", n * n *n)  \n",
    "  \n",
    "arr = [4, 5, 6, 7, 2] # given array  \n",
    "  \n",
    "t1 = time.time() # get total time to execute the functions  \n",
    "cal_sqre(arr) # call cal_sqre() function  \n",
    "cal_cube(arr) # call cal_cube() function  \n",
    "  \n",
    "print(\" Total time taken by threads is :\", time.time() - t1) # print the total time  "
   ]
  },
  {
   "cell_type": "code",
   "execution_count": 3,
   "id": "536238bd-e3ac-4d86-b3ed-362d6ad64822",
   "metadata": {},
   "outputs": [],
   "source": [
    "#5. State advantages and disadvantages of multithreading\n",
    "\"\"\"\n",
    "Advantages:\n",
    "\n",
    "1.Enhanced performance by decreased development time\n",
    "2.Simplified and streamlined program coding\n",
    "3.Improvised GUI responsiveness\n",
    "4.Simultaneous and parallelized occurrence of tasks\n",
    "5.Better use of cache storage by utilization of resources\n",
    "6.Decreased cost of maintenance\n",
    "7.Better use of CPU resource\n",
    "\n",
    "Disadvantages:\n",
    "\n",
    "1.Complex debugging and testing processes\n",
    "2.Overhead switching of context\n",
    "3.Increased potential for deadlock occurrence\n",
    "4.Increased difficulty level in writing a program\n",
    "5.Unpredictable results\n",
    "\"\"\""
   ]
  },
  {
   "cell_type": "code",
   "execution_count": null,
   "id": "4cc5ae6d-7244-4b1f-8beb-aac0a38726f7",
   "metadata": {},
   "outputs": [],
   "source": [
    "#6. Explain deadlocks and race conditions.\n",
    "\"\"\"\n",
    "Deadlock\n",
    "\n",
    "When two processes are waiting for each other directly or indirectly, it is called deadlock.This usually occurs when two processes are \n",
    "waiting for shared resources acquired by others. For example, If thread T1 acquired resource R1 and it also needs resource R2 for it to \n",
    "accomplish its task. But the resource R2 is acquired by thread T2 which is waiting for resource R1(which is acquired by T1).\n",
    "Neither of them will be able to accomplish its task, as they keep waiting for the other resources they need.\n",
    "\n",
    "Race conditions\n",
    "IT occur when two threads interact in a negatve (buggy) way depending on the exact order that their different instructions are executed.\n",
    "\"\"\""
   ]
  }
 ],
 "metadata": {
  "kernelspec": {
   "display_name": "Python 3 (ipykernel)",
   "language": "python",
   "name": "python3"
  },
  "language_info": {
   "codemirror_mode": {
    "name": "ipython",
    "version": 3
   },
   "file_extension": ".py",
   "mimetype": "text/x-python",
   "name": "python",
   "nbconvert_exporter": "python",
   "pygments_lexer": "ipython3",
   "version": "3.10.8"
  }
 },
 "nbformat": 4,
 "nbformat_minor": 5
}
