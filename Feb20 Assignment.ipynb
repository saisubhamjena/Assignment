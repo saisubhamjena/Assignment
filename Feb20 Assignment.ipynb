{
 "cells": [
  {
   "cell_type": "code",
   "execution_count": null,
   "id": "165298ea-8621-4dc2-a6e0-9963abfc68c2",
   "metadata": {},
   "outputs": [],
   "source": [
    "#Q1. Explain GET and POST methods.\n",
    "\"\"\"\n",
    "GET:Get method is mainly used at the client (Browser) side to send a request to a specified server to get certain data or resources.\n",
    "    The request parameter of the get method is appended to the URL\n",
    "    \n",
    "POST:Post method is mainly used at the client (Browser) side to send data to a Specified server in order to create or rewrite a particular\n",
    "     resource/data. Post method eventually leads to the creation of a new resource or updating an existing one. The data that is been sent is \n",
    "     included in the body of the request and not in the URL.\n",
    "\"\"\""
   ]
  },
  {
   "cell_type": "code",
   "execution_count": null,
   "id": "c60186b8-6792-485c-922b-8fc3ae93533f",
   "metadata": {},
   "outputs": [],
   "source": [
    "#Q2. Why is request used in Flask?\n",
    "\"\"\"\n",
    "The Request, in Flask, is an object that contains all the data sent from the Client to Server. This data can be recovered using the GET/POST Methods.\n",
    "\"\"\""
   ]
  },
  {
   "cell_type": "code",
   "execution_count": null,
   "id": "1ae1e9dc-4640-4f9d-9f04-0a4a7b06dfb2",
   "metadata": {},
   "outputs": [],
   "source": [
    "#Q3. Why is redirect() used in Flask?\n",
    "\"\"\"\n",
    "Flask class has a redirect() function. When called, it returns a response object and redirects the user to another target location with\n",
    "specified status code.\n",
    "\"\"\""
   ]
  },
  {
   "cell_type": "code",
   "execution_count": null,
   "id": "f86eabb7-fe10-49e0-b09e-f3135d87841a",
   "metadata": {},
   "outputs": [],
   "source": [
    "#Q4. What are templates in Flask? Why is the render_template() function used?\n",
    "\"\"\"\n",
    "Templates are files that contain static data as well as placeholders for dynamic data.\n",
    "\n",
    "render_template() function which can be used to render the external HTML file to be returned as the response from the view function.\n",
    "\"\"\""
   ]
  },
  {
   "cell_type": "code",
   "execution_count": null,
   "id": "21695377-859c-4f10-8182-308fbf74bca6",
   "metadata": {},
   "outputs": [],
   "source": [
    "#Q5. Create a simple API. Use Postman to test it. Attach the screenshot of the output in the Jupyter Notebook."
   ]
  }
 ],
 "metadata": {
  "kernelspec": {
   "display_name": "Python 3 (ipykernel)",
   "language": "python",
   "name": "python3"
  },
  "language_info": {
   "codemirror_mode": {
    "name": "ipython",
    "version": 3
   },
   "file_extension": ".py",
   "mimetype": "text/x-python",
   "name": "python",
   "nbconvert_exporter": "python",
   "pygments_lexer": "ipython3",
   "version": "3.10.8"
  }
 },
 "nbformat": 4,
 "nbformat_minor": 5
}
