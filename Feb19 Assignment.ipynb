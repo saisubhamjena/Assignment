{
 "cells": [
  {
   "cell_type": "code",
   "execution_count": 2,
   "id": "879a64e6",
   "metadata": {},
   "outputs": [],
   "source": [
    "#Q1. What is Flask Framework? What are the advantages of Flask Framework?\n",
    "\"\"\"\n",
    "Flask is a micro web framework that has minimal dependencies on external libraries, written in Python, which was formed for a faster and easier use, and\n",
    "also has the ability to scale up to complex applications.\n",
    "\n",
    "Advantages of Flask Framework:\n",
    "1.Flask is considered the best framework for light web application serving, it is a lightweight framework \n",
    "2.The Flask framework is easy to understand, that is why it is best for beginners. \n",
    "3.It is very flexible and easy.Almost all the parts of flask are open to change, unlike some other web frameworks.\n",
    "4.Using Flask for web development allows for unit testing through its integrated support, built-in development server, fast debugger, and \n",
    "  restful request dispatching.\n",
    "\"\"\""
   ]
  },
  {
   "cell_type": "code",
   "execution_count": 3,
   "id": "4f69b80b",
   "metadata": {},
   "outputs": [],
   "source": [
    "#Q2. Create a simple Flask application to display ‘Hello World!!’. Attach the screenshot of the output in Jupyter Notebook.\n",
    "\n",
    "from flask import Flask\n",
    "\n",
    "app = Flask(__name__)\n",
    "\n",
    "@app.route(\"/\")\n",
    "def hello_world():\n",
    "    return \"<h1>Hello world</h1>\"\n",
    "\n",
    "if __name__==\"__main__\":\n",
    "    app.run(host=\"0.0.0.0\")"
   ]
  },
  {
   "cell_type": "markdown",
   "id": "68743f44",
   "metadata": {},
   "source": [
    "<img src=\"HW.png\">"
   ]
  },
  {
   "cell_type": "code",
   "execution_count": null,
   "id": "737c6dee",
   "metadata": {},
   "outputs": [],
   "source": [
    "#Q3. What is App routing in Flask? Why do we use app routes?\n",
    "\"\"\"\n",
    "App Routing means mapping the URLs to a specific function that will handle the logic for that URL. Modern web frameworks use more meaningful URLs \n",
    "to help users remember the URLs and make navigation simpler.\n",
    "App routing is used to map the specific URL with the associated function that is intended to perform some task.\n",
    "\"\"\""
   ]
  },
  {
   "cell_type": "code",
   "execution_count": null,
   "id": "cf2cc858",
   "metadata": {},
   "outputs": [],
   "source": [
    "#Q4. Create a “/welcome” route to display the welcome message “Welcome to ABC Corporation” and a “/”.\n",
    "#route to show the following details: Company Name: ABC Corporation Location: India Contact Detail: 999-999-9999\n",
    "\n",
    "from flask import Flask\n",
    "\n",
    "app = Flask(__name__)\n",
    "\n",
    "@app.route(\"/welcome\")\n",
    "def welcome():\n",
    "    return \"Welcome to ABC Corporation\"\n",
    "@app.route(\"/\")\n",
    "def details():\n",
    "    return \"Company Name:ABC Corporation \\nLocation: India \\nContact Detail: 999-999-9999\"\n",
    "\n",
    "if __name__==\"__main__\":\n",
    "    app.run(host=\"0.0.0.0\")"
   ]
  },
  {
   "cell_type": "markdown",
   "id": "de2ee8ac",
   "metadata": {},
   "source": [
    "<img src=\"Welcome.png\">"
   ]
  },
  {
   "cell_type": "markdown",
   "id": "02277fb6",
   "metadata": {},
   "source": [
    "<img src=\"Details.png\">"
   ]
  },
  {
   "cell_type": "code",
   "execution_count": null,
   "id": "34711948",
   "metadata": {},
   "outputs": [],
   "source": [
    "#Q5. What function is used in Flask for URL Building? Write a Python code to demonstrate the working of the url_for() function.\n",
    "\"\"\"\n",
    "To build a URL to a specific function, use the url_for() function. It accepts the name of the function as its first argument and any number \n",
    "of keyword arguments, each corresponding to a variable part of the URL rule.\"\"\"\n",
    "\n",
    "from flask import url_for, Flask\n",
    "\n",
    "appFlask = Flask(__name__)\n",
    "\n",
    "@appFlask.route('/home')\n",
    "def home():\n",
    "   return 'We are in Home Page!'\n",
    "with appFlask.test_request_context():\n",
    "    print(url_for('login'))\n"
   ]
  },
  {
   "cell_type": "code",
   "execution_count": null,
   "id": "d8907ec8",
   "metadata": {},
   "outputs": [],
   "source": []
  },
  {
   "cell_type": "code",
   "execution_count": null,
   "id": "afe7052e",
   "metadata": {},
   "outputs": [],
   "source": []
  }
 ],
 "metadata": {
  "kernelspec": {
   "display_name": "Python 3 (ipykernel)",
   "language": "python",
   "name": "python3"
  },
  "language_info": {
   "codemirror_mode": {
    "name": "ipython",
    "version": 3
   },
   "file_extension": ".py",
   "mimetype": "text/x-python",
   "name": "python",
   "nbconvert_exporter": "python",
   "pygments_lexer": "ipython3",
   "version": "3.9.12"
  }
 },
 "nbformat": 4,
 "nbformat_minor": 5
}
